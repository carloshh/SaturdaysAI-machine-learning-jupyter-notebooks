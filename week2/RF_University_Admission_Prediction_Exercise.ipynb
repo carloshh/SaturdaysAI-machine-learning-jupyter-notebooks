{
  "nbformat": 4,
  "nbformat_minor": 0,
  "metadata": {
    "kernelspec": {
      "display_name": "Python 3",
      "language": "python",
      "name": "python3"
    },
    "language_info": {
      "codemirror_mode": {
        "name": "ipython",
        "version": 3
      },
      "file_extension": ".py",
      "mimetype": "text/x-python",
      "name": "python",
      "nbconvert_exporter": "python",
      "pygments_lexer": "ipython3",
      "version": "3.7.2"
    },
    "colab": {
      "name": "Copia de RF University Admission Prediction Exercise.ipynb",
      "provenance": []
    }
  },
  "cells": [
    {
      "cell_type": "markdown",
      "metadata": {
        "id": "CePzkNs-ePMk",
        "colab_type": "text"
      },
      "source": [
        "# AI6 Training Exercise - University Admission Prediction\n",
        "## Predicción de admisión a la universidad mediante diferentes parámetros\n",
        "\n",
        "*Autores: Mohan S Acharya, Asfia Armaan, Aneeta S Antony*\n",
        "\n",
        "*Source: Indian Institutes of Technology*\n",
        "\n",
        "El dataset contiene los datos relacionados con la probabilidad de admisión de diferentes estudiantes hindúes en las diferentes escuelas IIT, las más prestigiosas del país.\n",
        "\n",
        "La predicción de probabilidad de admisión va del 0-1.\n",
        "\n",
        "Este dataset contiene varios parámetros que se consideran importantes en el proceso de admisión a los diferentes programas de máster en IIT:\n",
        "1. GRE Scores ( out of 340 )\n",
        "2. TOEFL Scores ( out of 120 )\n",
        "3. University Rating ( out of 5 )\n",
        "4. Statement of Purpose and Letter of Recommendation Strength ( out of 5 )\n",
        "5. Undergraduate GPA ( out of 10 )\n",
        "6. Research Experience ( either 0 or 1 )\n",
        "7. Chance of Admit ( ranging from 0 to 1 )\n",
        "\n",
        "![Entrada principal al edificio de IIT Delhi](https://s3.ap-southeast-1.amazonaws.com/images.asianage.com/images/aa-Cover-cmrb66stiu4qb3nga8t6dmj1c1-20170504020730.Medi.jpeg)\n",
        "<p style=\"text-align: center;\"><em>Fig 1. Indian Institute of Technology in Delhi</em></p>\n",
        "\n",
        "La principal tarea será predecir la probabilidad de admisión de nuevos aplicantes a estos programas. También será necesario obtener información esencial sobre nuestro dataset y conseguir la feature importance de los diferentes parámetros para ayudar a determinar las áreas más importantes para futuros estudiantes."
      ]
    },
    {
      "cell_type": "code",
      "metadata": {
        "id": "ShjT8yQ9ePMk",
        "colab_type": "code",
        "colab": {}
      },
      "source": [
        "# Importar librerías necesarias\n",
        "import numpy as np\n",
        "import pandas as pd\n",
        "from time import time\n",
        "from IPython.display import display\n",
        "\n",
        "# Importar aquí librerias de sklearn y fastai que se consideren necesarias\n",
        "\n",
        "import matplotlib.pyplot as plt\n",
        "\n",
        "%matplotlib inline"
      ],
      "execution_count": 0,
      "outputs": []
    },
    {
      "cell_type": "code",
      "metadata": {
        "id": "sNy4RHT4ePMm",
        "colab_type": "code",
        "outputId": "eba56fd1-8f85-4f16-8b17-906624f5362e",
        "colab": {
          "base_uri": "https://localhost:8080/",
          "height": 87
        }
      },
      "source": [
        "# Crear dataframe a partir de .csv\n",
        "df = pd.read_csv(\"/admission.csv\", thousands=',')\n",
        "df.dtypes\n",
        "\n",
        "# Mostrar número de filas y columnas del dataframe\n",
        "df.shape\n",
        "\n",
        "\n",
        "\n",
        "# Mostrar las primeras 10 filas\n",
        "df.head(10)\n",
        "\n",
        "df.columns"
      ],
      "execution_count": 0,
      "outputs": [
        {
          "output_type": "execute_result",
          "data": {
            "text/plain": [
              "Index(['Serial No.', 'GRE Score', 'TOEFL Score', 'University Rating', 'SOP',\n",
              "       'LOR ', 'CGPA', 'Research', 'Chance of Admit '],\n",
              "      dtype='object')"
            ]
          },
          "metadata": {
            "tags": []
          },
          "execution_count": 11
        }
      ]
    },
    {
      "cell_type": "code",
      "metadata": {
        "id": "GUJa0ZqPePMo",
        "colab_type": "code",
        "outputId": "c2ff493b-1b8a-438d-99cf-478eeb8b02fe",
        "colab": {
          "base_uri": "https://localhost:8080/",
          "height": 221
        }
      },
      "source": [
        "#El número de serie del alumno no se considera una variable importante por lo que la eliminaremos del dataset\n",
        "#df = df.drop('Serial No.', axis = 1)\n",
        "\n",
        "#Simplificamos nombres de columnas para que sea mas fácil.\n",
        "df = df.rename(index=str, columns={\"GRE Score\": \"GRE\", \"TOEFL Score\": \"TOEFL\", \"University Rating\": \"URat\", \"LOR \": \"LOR\", \"Chance of Admit \": \"Chance\"})\n",
        "\n",
        "df.head()"
      ],
      "execution_count": 0,
      "outputs": [
        {
          "output_type": "execute_result",
          "data": {
            "text/html": [
              "<div>\n",
              "<style scoped>\n",
              "    .dataframe tbody tr th:only-of-type {\n",
              "        vertical-align: middle;\n",
              "    }\n",
              "\n",
              "    .dataframe tbody tr th {\n",
              "        vertical-align: top;\n",
              "    }\n",
              "\n",
              "    .dataframe thead th {\n",
              "        text-align: right;\n",
              "    }\n",
              "</style>\n",
              "<table border=\"1\" class=\"dataframe\">\n",
              "  <thead>\n",
              "    <tr style=\"text-align: right;\">\n",
              "      <th></th>\n",
              "      <th>Serial No.</th>\n",
              "      <th>GRE</th>\n",
              "      <th>TOEFL</th>\n",
              "      <th>URat</th>\n",
              "      <th>SOP</th>\n",
              "      <th>LOR</th>\n",
              "      <th>CGPA</th>\n",
              "      <th>Research</th>\n",
              "      <th>Chance</th>\n",
              "    </tr>\n",
              "  </thead>\n",
              "  <tbody>\n",
              "    <tr>\n",
              "      <th>0</th>\n",
              "      <td>1</td>\n",
              "      <td>337</td>\n",
              "      <td>118</td>\n",
              "      <td>4</td>\n",
              "      <td>4.5</td>\n",
              "      <td>4.5</td>\n",
              "      <td>9.65</td>\n",
              "      <td>1</td>\n",
              "      <td>0.92</td>\n",
              "    </tr>\n",
              "    <tr>\n",
              "      <th>1</th>\n",
              "      <td>2</td>\n",
              "      <td>324</td>\n",
              "      <td>107</td>\n",
              "      <td>4</td>\n",
              "      <td>4.0</td>\n",
              "      <td>4.5</td>\n",
              "      <td>8.87</td>\n",
              "      <td>1</td>\n",
              "      <td>0.76</td>\n",
              "    </tr>\n",
              "    <tr>\n",
              "      <th>2</th>\n",
              "      <td>3</td>\n",
              "      <td>316</td>\n",
              "      <td>104</td>\n",
              "      <td>3</td>\n",
              "      <td>3.0</td>\n",
              "      <td>3.5</td>\n",
              "      <td>8.00</td>\n",
              "      <td>1</td>\n",
              "      <td>0.72</td>\n",
              "    </tr>\n",
              "    <tr>\n",
              "      <th>3</th>\n",
              "      <td>4</td>\n",
              "      <td>322</td>\n",
              "      <td>110</td>\n",
              "      <td>3</td>\n",
              "      <td>3.5</td>\n",
              "      <td>2.5</td>\n",
              "      <td>8.67</td>\n",
              "      <td>1</td>\n",
              "      <td>0.80</td>\n",
              "    </tr>\n",
              "    <tr>\n",
              "      <th>4</th>\n",
              "      <td>5</td>\n",
              "      <td>314</td>\n",
              "      <td>103</td>\n",
              "      <td>2</td>\n",
              "      <td>2.0</td>\n",
              "      <td>3.0</td>\n",
              "      <td>8.21</td>\n",
              "      <td>0</td>\n",
              "      <td>0.65</td>\n",
              "    </tr>\n",
              "  </tbody>\n",
              "</table>\n",
              "</div>"
            ],
            "text/plain": [
              "   Serial No.  GRE  TOEFL  URat  SOP  LOR  CGPA  Research  Chance\n",
              "0           1  337    118     4  4.5  4.5  9.65         1    0.92\n",
              "1           2  324    107     4  4.0  4.5  8.87         1    0.76\n",
              "2           3  316    104     3  3.0  3.5  8.00         1    0.72\n",
              "3           4  322    110     3  3.5  2.5  8.67         1    0.80\n",
              "4           5  314    103     2  2.0  3.0  8.21         0    0.65"
            ]
          },
          "metadata": {
            "tags": []
          },
          "execution_count": 12
        }
      ]
    },
    {
      "cell_type": "code",
      "metadata": {
        "id": "h7-6LHLiePMp",
        "colab_type": "code",
        "outputId": "a14884cb-213d-4069-a9b9-506d5daf29fd",
        "colab": {
          "base_uri": "https://localhost:8080/",
          "height": 186
        }
      },
      "source": [
        "# Hallar número de valores únicos en cada columna\n",
        "for column in df.columns:\n",
        "  print(column, df[column].nunique())\n"
      ],
      "execution_count": 0,
      "outputs": [
        {
          "output_type": "stream",
          "text": [
            "Serial No. 500\n",
            "GRE 49\n",
            "TOEFL 29\n",
            "URat 5\n",
            "SOP 9\n",
            "LOR 9\n",
            "CGPA 184\n",
            "Research 2\n",
            "Chance 61\n"
          ],
          "name": "stdout"
        }
      ]
    },
    {
      "cell_type": "code",
      "metadata": {
        "id": "j6QgVozMePMq",
        "colab_type": "code",
        "outputId": "25fd6041-2985-4fc1-9ac3-99484520bd0d",
        "colab": {
          "base_uri": "https://localhost:8080/",
          "height": 54
        }
      },
      "source": [
        "# Comprobar la existencia de valores nulos en el dataset\n",
        "df.isnull().values.sum()"
      ],
      "execution_count": 0,
      "outputs": [
        {
          "output_type": "execute_result",
          "data": {
            "text/plain": [
              "0"
            ]
          },
          "metadata": {
            "tags": []
          },
          "execution_count": 14
        }
      ]
    },
    {
      "cell_type": "code",
      "metadata": {
        "id": "hPKYGZZyePMu",
        "colab_type": "code",
        "outputId": "99259f05-a3f5-478b-f97d-eeb737594aac",
        "colab": {
          "base_uri": "https://localhost:8080/",
          "height": 203
        }
      },
      "source": [
        "# Mostrar información general del dataframe\n",
        "df.dtypes"
      ],
      "execution_count": 0,
      "outputs": [
        {
          "output_type": "execute_result",
          "data": {
            "text/plain": [
              "Serial No.      int64\n",
              "GRE             int64\n",
              "TOEFL           int64\n",
              "URat            int64\n",
              "SOP           float64\n",
              "LOR           float64\n",
              "CGPA          float64\n",
              "Research        int64\n",
              "Chance        float64\n",
              "dtype: object"
            ]
          },
          "metadata": {
            "tags": []
          },
          "execution_count": 6
        }
      ]
    },
    {
      "cell_type": "code",
      "metadata": {
        "id": "bwiPSWCeePMv",
        "colab_type": "code",
        "outputId": "323983ba-7aa0-4961-c07b-4ad1ae21b6d3",
        "colab": {
          "base_uri": "https://localhost:8080/",
          "height": 313
        }
      },
      "source": [
        "# Descripción analítica básica del dataframe\n",
        "df.describe()"
      ],
      "execution_count": 0,
      "outputs": [
        {
          "output_type": "execute_result",
          "data": {
            "text/html": [
              "<div>\n",
              "<style scoped>\n",
              "    .dataframe tbody tr th:only-of-type {\n",
              "        vertical-align: middle;\n",
              "    }\n",
              "\n",
              "    .dataframe tbody tr th {\n",
              "        vertical-align: top;\n",
              "    }\n",
              "\n",
              "    .dataframe thead th {\n",
              "        text-align: right;\n",
              "    }\n",
              "</style>\n",
              "<table border=\"1\" class=\"dataframe\">\n",
              "  <thead>\n",
              "    <tr style=\"text-align: right;\">\n",
              "      <th></th>\n",
              "      <th>Serial No.</th>\n",
              "      <th>GRE</th>\n",
              "      <th>TOEFL</th>\n",
              "      <th>URat</th>\n",
              "      <th>SOP</th>\n",
              "      <th>LOR</th>\n",
              "      <th>CGPA</th>\n",
              "      <th>Research</th>\n",
              "      <th>Chance</th>\n",
              "    </tr>\n",
              "  </thead>\n",
              "  <tbody>\n",
              "    <tr>\n",
              "      <th>count</th>\n",
              "      <td>500.000000</td>\n",
              "      <td>500.000000</td>\n",
              "      <td>500.000000</td>\n",
              "      <td>500.000000</td>\n",
              "      <td>500.000000</td>\n",
              "      <td>500.00000</td>\n",
              "      <td>500.000000</td>\n",
              "      <td>500.000000</td>\n",
              "      <td>500.00000</td>\n",
              "    </tr>\n",
              "    <tr>\n",
              "      <th>mean</th>\n",
              "      <td>250.500000</td>\n",
              "      <td>316.472000</td>\n",
              "      <td>107.192000</td>\n",
              "      <td>3.114000</td>\n",
              "      <td>3.374000</td>\n",
              "      <td>3.48400</td>\n",
              "      <td>8.576440</td>\n",
              "      <td>0.560000</td>\n",
              "      <td>0.72174</td>\n",
              "    </tr>\n",
              "    <tr>\n",
              "      <th>std</th>\n",
              "      <td>144.481833</td>\n",
              "      <td>11.295148</td>\n",
              "      <td>6.081868</td>\n",
              "      <td>1.143512</td>\n",
              "      <td>0.991004</td>\n",
              "      <td>0.92545</td>\n",
              "      <td>0.604813</td>\n",
              "      <td>0.496884</td>\n",
              "      <td>0.14114</td>\n",
              "    </tr>\n",
              "    <tr>\n",
              "      <th>min</th>\n",
              "      <td>1.000000</td>\n",
              "      <td>290.000000</td>\n",
              "      <td>92.000000</td>\n",
              "      <td>1.000000</td>\n",
              "      <td>1.000000</td>\n",
              "      <td>1.00000</td>\n",
              "      <td>6.800000</td>\n",
              "      <td>0.000000</td>\n",
              "      <td>0.34000</td>\n",
              "    </tr>\n",
              "    <tr>\n",
              "      <th>25%</th>\n",
              "      <td>125.750000</td>\n",
              "      <td>308.000000</td>\n",
              "      <td>103.000000</td>\n",
              "      <td>2.000000</td>\n",
              "      <td>2.500000</td>\n",
              "      <td>3.00000</td>\n",
              "      <td>8.127500</td>\n",
              "      <td>0.000000</td>\n",
              "      <td>0.63000</td>\n",
              "    </tr>\n",
              "    <tr>\n",
              "      <th>50%</th>\n",
              "      <td>250.500000</td>\n",
              "      <td>317.000000</td>\n",
              "      <td>107.000000</td>\n",
              "      <td>3.000000</td>\n",
              "      <td>3.500000</td>\n",
              "      <td>3.50000</td>\n",
              "      <td>8.560000</td>\n",
              "      <td>1.000000</td>\n",
              "      <td>0.72000</td>\n",
              "    </tr>\n",
              "    <tr>\n",
              "      <th>75%</th>\n",
              "      <td>375.250000</td>\n",
              "      <td>325.000000</td>\n",
              "      <td>112.000000</td>\n",
              "      <td>4.000000</td>\n",
              "      <td>4.000000</td>\n",
              "      <td>4.00000</td>\n",
              "      <td>9.040000</td>\n",
              "      <td>1.000000</td>\n",
              "      <td>0.82000</td>\n",
              "    </tr>\n",
              "    <tr>\n",
              "      <th>max</th>\n",
              "      <td>500.000000</td>\n",
              "      <td>340.000000</td>\n",
              "      <td>120.000000</td>\n",
              "      <td>5.000000</td>\n",
              "      <td>5.000000</td>\n",
              "      <td>5.00000</td>\n",
              "      <td>9.920000</td>\n",
              "      <td>1.000000</td>\n",
              "      <td>0.97000</td>\n",
              "    </tr>\n",
              "  </tbody>\n",
              "</table>\n",
              "</div>"
            ],
            "text/plain": [
              "       Serial No.         GRE       TOEFL  ...        CGPA    Research     Chance\n",
              "count  500.000000  500.000000  500.000000  ...  500.000000  500.000000  500.00000\n",
              "mean   250.500000  316.472000  107.192000  ...    8.576440    0.560000    0.72174\n",
              "std    144.481833   11.295148    6.081868  ...    0.604813    0.496884    0.14114\n",
              "min      1.000000  290.000000   92.000000  ...    6.800000    0.000000    0.34000\n",
              "25%    125.750000  308.000000  103.000000  ...    8.127500    0.000000    0.63000\n",
              "50%    250.500000  317.000000  107.000000  ...    8.560000    1.000000    0.72000\n",
              "75%    375.250000  325.000000  112.000000  ...    9.040000    1.000000    0.82000\n",
              "max    500.000000  340.000000  120.000000  ...    9.920000    1.000000    0.97000\n",
              "\n",
              "[8 rows x 9 columns]"
            ]
          },
          "metadata": {
            "tags": []
          },
          "execution_count": 7
        }
      ]
    },
    {
      "cell_type": "code",
      "metadata": {
        "id": "b8HbquW5ePMw",
        "colab_type": "code",
        "outputId": "4456c0c3-07c0-4c97-86f2-83b9316a1eb1",
        "colab": {
          "base_uri": "https://localhost:8080/",
          "height": 71
        }
      },
      "source": [
        "\n",
        "from scipy import stats as stats\n",
        "import sklearn\n",
        "from sklearn.model_selection import train_test_split, cross_val_score\n",
        "from sklearn.linear_model import LinearRegression\n",
        "import sklearn.metrics as metrics\n",
        "import statsmodels.formula.api as sm\n",
        "\n",
        "# Partir el test en cierta proporción (¡experimentar!)\n",
        "y_column = ['Chance']\n",
        "y = df[y_column]\n",
        "x_columns = ['CGPA']\n",
        "X = df[x_columns]\n",
        "X_train, X_test, y_train, y_test = train_test_split(X, y, test_size=0.2, random_state=42)\n",
        "\n",
        "###### Snippet para imprimir resultados, X_train es la variable que refiere\n",
        "###### a la porcion de entrenamiento y X_test a la de test\n",
        "\n",
        "print(\"El dataset de training tiene {} elementos.\".format(X_train.shape[0]))\n",
        "print(\"El dataset de testing tiene {} elementos.\".format(X_test.shape[0]))"
      ],
      "execution_count": 0,
      "outputs": [
        {
          "output_type": "stream",
          "text": [
            "El dataset de training tiene 400 elementos.\n",
            "El dataset de testing tiene 100 elementos.\n"
          ],
          "name": "stdout"
        }
      ]
    },
    {
      "cell_type": "code",
      "metadata": {
        "id": "RohnuPo8ePMx",
        "colab_type": "code",
        "outputId": "9c1f1450-ff29-4a99-f0db-e29b0bdc8139",
        "colab": {
          "base_uri": "https://localhost:8080/",
          "height": 512
        }
      },
      "source": [
        "# Definir un linearregressor\n",
        "model = sklearn.linear_model.LinearRegression()\n",
        "\n",
        "# Train the model\n",
        "model.fit(X_train, y_train)\n",
        "\n",
        "# Entrenar el regresor con el dataset de train\n",
        "\n",
        "\n",
        "# Predecir valores para las variables independientes de test\n",
        "#X_new = [[9.0]]\n",
        "#print(\"Predicted chance\", model.predict(X_new))\n",
        "\n",
        "y_pred_test = model.predict(X_test)\n",
        "\n",
        "plt.figure(figsize=(9,7))\n",
        "plt.scatter(y_pred_test, y_test, alpha=0.5, c='r')\n",
        "plt.title('predicted vs true for test data')\n",
        "plt.xlabel('pred')\n",
        "plt.ylabel('actual')\n",
        "axes = plt.gca()\n",
        "plt.show();\n",
        "\n",
        "\n",
        "# Calcular la precisión\n",
        "# Pista: explorar sklearn.metrics\n",
        "print(\"Precisión global: \" + str(metrics.r2_score(y_test, y_pred_test)))\n",
        "print(\"MSE: \" + str(metrics.mean_squared_error(y_test, y_pred_test)))"
      ],
      "execution_count": 0,
      "outputs": [
        {
          "output_type": "display_data",
          "data": {
            "image/png": "[encoded data removed]",
            "text/plain": [
              "<Figure size 648x504 with 1 Axes>"
            ]
          },
          "metadata": {
            "tags": []
          }
        },
        {
          "output_type": "stream",
          "text": [
            "Precisión global: 0.805970774788237\n",
            "MSE: 0.003967897655580556\n"
          ],
          "name": "stdout"
        }
      ]
    }
  ]
}