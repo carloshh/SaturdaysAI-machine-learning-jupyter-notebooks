{
  "nbformat": 4,
  "nbformat_minor": 0,
  "metadata": {
    "kernelspec": {
      "display_name": "Python 3",
      "language": "python",
      "name": "python3"
    },
    "language_info": {
      "codemirror_mode": {
        "name": "ipython",
        "version": 3
      },
      "file_extension": ".py",
      "mimetype": "text/x-python",
      "name": "python",
      "nbconvert_exporter": "python",
      "pygments_lexer": "ipython3",
      "version": "3.6.8"
    },
    "colab": {
      "name": "1_5_feature_engineering.ipynb",
      "provenance": [],
      "toc_visible": true
    }
  },
  "cells": [
    {
      "cell_type": "markdown",
      "metadata": {
        "id": "y9pCiuwmzEFC",
        "colab_type": "text"
      },
      "source": [
        "# Module 2:  Feature Engineering\n"
      ]
    },
    {
      "cell_type": "markdown",
      "metadata": {
        "id": "BhXEORD3zEFF",
        "colab_type": "text"
      },
      "source": [
        "<a href=\"https://drive.google.com/file/d/1EZ_xqMaYj77vErVnrQmnFOj-VBEoO5uW/view?usp=sharing\" target=\"_blank\">\n",
        "     <img src=\"http://www.deltanalytics.org/uploads/2/6/1/4/26140521/screen-shot-2019-01-05-at-4-48-29-pm_orig.png\" width=\"500\" height=\"400\">\n",
        "</a>"
      ]
    },
    {
      "cell_type": "markdown",
      "metadata": {
        "id": "2Asj9k2jzEFJ",
        "colab_type": "text"
      },
      "source": [
        "Feature Engineering is the process of transforming raw data into features/input variables that are easily digested by algorithms. People think that data scientists often spend most of their time testing out various algorithms; however, the majority of performance gains generally come from well-crafted features. \n",
        "\n",
        "While performing feature engineering, it is critical to keep in mind the question that you are trying to answer.  For the purposes of this exercise, we will be using the KIVA dataset and will be trying to answering the following question:\n",
        "\n",
        "__What drives the loan amount requested by KIVA borrowers?__\n",
        "\n",
        "Our outcome feature is __loan_amount__. In the next notebook, we will formalize this research question as a machine learning task. Our machine learning task will be to predict the loan amount that a borrower requests from KIVA using all the features we explore in this notebook.\n",
        "\n",
        "We may not end up using all the features we create, but the process is an important extension of exploratory analysis. The key difference between feature engineering and exploratory analysis is that we now have a defined question in mind: \"What drives the loan amount requested by KIVA lenders?\"\n",
        "\n",
        "In this lab, we will introduce the following types of feature engineering:\n",
        "\n",
        "1. Feature pruning\n",
        "1. Time-based features (month, year, etc)\n",
        "1. One-hot encoding to create dummy variables\n",
        "1. Extracting features from strings\n",
        "1. Feature scaling\n",
        "1. Data imputation / cleaning"
      ]
    },
    {
      "cell_type": "code",
      "metadata": {
        "id": "xoGsGAjczEFL",
        "colab_type": "code",
        "colab": {}
      },
      "source": [
        "import re\n",
        "\n",
        "import matplotlib.pyplot as plt\n",
        "import pandas as pd\n",
        "import numpy as np\n",
        "from sklearn import preprocessing\n",
        "import seaborn as sns\n",
        "\n",
        "# Plotting defaults\n",
        "plt.rcParams['figure.figsize'] = (15, 8)\n",
        "sns.set()\n",
        "sns.set(font_scale=1.5)\n",
        "\n",
        "# Display up to 80 columns to keeps everything visible\n",
        "pd.set_option('display.max_columns', 80)\n",
        "pd.set_option('expand_frame_repr', True)\n",
        "\n",
        "%matplotlib inline"
      ],
      "execution_count": 0,
      "outputs": []
    },
    {
      "cell_type": "code",
      "metadata": {
        "id": "1ObfyDnWzEFS",
        "colab_type": "code",
        "colab": {}
      },
      "source": [
        "# Load data\n",
        "path = ''\n",
        "filename = '/loans.csv'\n",
        "df = pd.read_csv(path+filename)"
      ],
      "execution_count": 0,
      "outputs": []
    },
    {
      "cell_type": "markdown",
      "metadata": {
        "id": "mHM13X8T1g15",
        "colab_type": "text"
      },
      "source": [
        ""
      ]
    },
    {
      "cell_type": "code",
      "metadata": {
        "id": "vynMUtN01h1z",
        "colab_type": "code",
        "outputId": "4f1bc006-dd48-41c0-f034-96f53fa8ddb0",
        "colab": {
          "base_uri": "https://localhost:8080/",
          "height": 221
        }
      },
      "source": [
        "df.dtypes"
      ],
      "execution_count": 0,
      "outputs": [
        {
          "output_type": "execute_result",
          "data": {
            "text/plain": [
              "id_number                 int64\n",
              "loan_amount               int64\n",
              "lender_count              int64\n",
              "status                   object\n",
              "funded_date              object\n",
              "funded_amount             int64\n",
              "repayment_term            int64\n",
              "location_country_code    object\n",
              "sector                   object\n",
              "description              object\n",
              "use                      object\n",
              "dtype: object"
            ]
          },
          "metadata": {
            "tags": []
          },
          "execution_count": 23
        }
      ]
    },
    {
      "cell_type": "code",
      "metadata": {
        "id": "H4hNDGPC1v6K",
        "colab_type": "code",
        "outputId": "602ed473-4e8a-4903-9622-4b7aac29f3f2",
        "colab": {
          "base_uri": "https://localhost:8080/",
          "height": 326
        }
      },
      "source": [
        "df.head()"
      ],
      "execution_count": 0,
      "outputs": [
        {
          "output_type": "execute_result",
          "data": {
            "text/html": [
              "<div>\n",
              "<style scoped>\n",
              "    .dataframe tbody tr th:only-of-type {\n",
              "        vertical-align: middle;\n",
              "    }\n",
              "\n",
              "    .dataframe tbody tr th {\n",
              "        vertical-align: top;\n",
              "    }\n",
              "\n",
              "    .dataframe thead th {\n",
              "        text-align: right;\n",
              "    }\n",
              "</style>\n",
              "<table border=\"1\" class=\"dataframe\">\n",
              "  <thead>\n",
              "    <tr style=\"text-align: right;\">\n",
              "      <th></th>\n",
              "      <th>id_number</th>\n",
              "      <th>loan_amount</th>\n",
              "      <th>lender_count</th>\n",
              "      <th>status</th>\n",
              "      <th>funded_date</th>\n",
              "      <th>funded_amount</th>\n",
              "      <th>repayment_term</th>\n",
              "      <th>location_country_code</th>\n",
              "      <th>sector</th>\n",
              "      <th>description</th>\n",
              "      <th>use</th>\n",
              "      <th>test feature</th>\n",
              "    </tr>\n",
              "  </thead>\n",
              "  <tbody>\n",
              "    <tr>\n",
              "      <th>0</th>\n",
              "      <td>736066</td>\n",
              "      <td>4825</td>\n",
              "      <td>60</td>\n",
              "      <td>funded</td>\n",
              "      <td>2014-08-03 17:51:50+00:00</td>\n",
              "      <td>4825</td>\n",
              "      <td>8</td>\n",
              "      <td>BJ</td>\n",
              "      <td>Retail</td>\n",
              "      <td>NaN</td>\n",
              "      <td>NaN</td>\n",
              "      <td>1</td>\n",
              "    </tr>\n",
              "    <tr>\n",
              "      <th>1</th>\n",
              "      <td>743090</td>\n",
              "      <td>975</td>\n",
              "      <td>34</td>\n",
              "      <td>funded</td>\n",
              "      <td>2014-08-18 09:10:54+00:00</td>\n",
              "      <td>975</td>\n",
              "      <td>12</td>\n",
              "      <td>BJ</td>\n",
              "      <td>Food</td>\n",
              "      <td>NaN</td>\n",
              "      <td>NaN</td>\n",
              "      <td>1</td>\n",
              "    </tr>\n",
              "    <tr>\n",
              "      <th>2</th>\n",
              "      <td>743120</td>\n",
              "      <td>950</td>\n",
              "      <td>25</td>\n",
              "      <td>funded</td>\n",
              "      <td>2014-08-09 17:46:35+00:00</td>\n",
              "      <td>950</td>\n",
              "      <td>14</td>\n",
              "      <td>BJ</td>\n",
              "      <td>Services</td>\n",
              "      <td>NaN</td>\n",
              "      <td>NaN</td>\n",
              "      <td>1</td>\n",
              "    </tr>\n",
              "    <tr>\n",
              "      <th>3</th>\n",
              "      <td>743121</td>\n",
              "      <td>825</td>\n",
              "      <td>28</td>\n",
              "      <td>funded</td>\n",
              "      <td>2014-08-24 17:00:38+00:00</td>\n",
              "      <td>825</td>\n",
              "      <td>14</td>\n",
              "      <td>BJ</td>\n",
              "      <td>Retail</td>\n",
              "      <td>NaN</td>\n",
              "      <td>NaN</td>\n",
              "      <td>1</td>\n",
              "    </tr>\n",
              "    <tr>\n",
              "      <th>4</th>\n",
              "      <td>743124</td>\n",
              "      <td>725</td>\n",
              "      <td>21</td>\n",
              "      <td>funded</td>\n",
              "      <td>2014-08-25 03:24:54+00:00</td>\n",
              "      <td>725</td>\n",
              "      <td>13</td>\n",
              "      <td>BJ</td>\n",
              "      <td>Retail</td>\n",
              "      <td>NaN</td>\n",
              "      <td>NaN</td>\n",
              "      <td>1</td>\n",
              "    </tr>\n",
              "  </tbody>\n",
              "</table>\n",
              "</div>"
            ],
            "text/plain": [
              "   id_number  loan_amount  lender_count  status               funded_date  \\\n",
              "0     736066         4825            60  funded 2014-08-03 17:51:50+00:00   \n",
              "1     743090          975            34  funded 2014-08-18 09:10:54+00:00   \n",
              "2     743120          950            25  funded 2014-08-09 17:46:35+00:00   \n",
              "3     743121          825            28  funded 2014-08-24 17:00:38+00:00   \n",
              "4     743124          725            21  funded 2014-08-25 03:24:54+00:00   \n",
              "\n",
              "   funded_amount  repayment_term location_country_code    sector description  \\\n",
              "0           4825               8                    BJ    Retail         NaN   \n",
              "1            975              12                    BJ      Food         NaN   \n",
              "2            950              14                    BJ  Services         NaN   \n",
              "3            825              14                    BJ    Retail         NaN   \n",
              "4            725              13                    BJ    Retail         NaN   \n",
              "\n",
              "   use  test feature  \n",
              "0  NaN             1  \n",
              "1  NaN             1  \n",
              "2  NaN             1  \n",
              "3  NaN             1  \n",
              "4  NaN             1  "
            ]
          },
          "metadata": {
            "tags": []
          },
          "execution_count": 34
        }
      ]
    },
    {
      "cell_type": "markdown",
      "metadata": {
        "id": "nmQ0waFAzEFY",
        "colab_type": "text"
      },
      "source": [
        "## 1. Feature Pruning\n",
        "No need to keep features that have zero variation.  Algorithms can only provide meaningful insights when there is variation in the features.  Given that we are performing feature engineering for the purpose of feeding these features into a machine learning algorithm, let's go ahead and remove all columns that only consist 1 or less unique values."
      ]
    },
    {
      "cell_type": "code",
      "metadata": {
        "id": "WnXqGZ0JzEFa",
        "colab_type": "code",
        "colab": {}
      },
      "source": [
        "for col in df.columns:\n",
        "    if df[col].unique().size==1:\n",
        "        print(\"Dropping column: {0}\".format(col))\n",
        "        df = df.drop(col, axis=1)"
      ],
      "execution_count": 0,
      "outputs": []
    },
    {
      "cell_type": "markdown",
      "metadata": {
        "id": "Jr1gjbabzEFf",
        "colab_type": "text"
      },
      "source": [
        "## 2. Temporal Features\n",
        "Time trends are very significant and should not be neglected.  Most algorithms will not be able to make use of raw datetimes; however, they will be able to find patterns in the data if they are informed which observations occur in a given year, on a weekday vs weekend, on a holiday, etc.\n",
        "\n",
        "Before we are able to extract this metadata, let's convert the strings in the pandas dataframe to datetime objects. Luckily for us, all time fields in this dataset have \"_date\" in their name.\n",
        "\n",
        "Pandas is really adept at time series analysis, and we will use pd.to_datetime to create pandas timestamps.\n",
        "See a list of methods that can be applied to a pandas datetime here: https://pandas.pydata.org/pandas-docs/version/0.21/api.html#id34"
      ]
    },
    {
      "cell_type": "code",
      "metadata": {
        "id": "p0M53Xh7zEFg",
        "colab_type": "code",
        "colab": {}
      },
      "source": [
        "for col in [c for c in df.columns if \"_date\" in c]:\n",
        "    if \"_date\" in col:\n",
        "        df[col] = pd.to_datetime(df[col])"
      ],
      "execution_count": 0,
      "outputs": []
    },
    {
      "cell_type": "code",
      "metadata": {
        "id": "t4PHq_TW3RzB",
        "colab_type": "code",
        "outputId": "c5d181be-9df1-4546-ce73-85519c78482f",
        "colab": {
          "base_uri": "https://localhost:8080/",
          "height": 221
        }
      },
      "source": [
        "df.dtypes"
      ],
      "execution_count": 0,
      "outputs": [
        {
          "output_type": "execute_result",
          "data": {
            "text/plain": [
              "id_number                              int64\n",
              "loan_amount                            int64\n",
              "lender_count                           int64\n",
              "status                                object\n",
              "funded_date              datetime64[ns, UTC]\n",
              "funded_amount                          int64\n",
              "repayment_term                         int64\n",
              "location_country_code                 object\n",
              "sector                                object\n",
              "description                           object\n",
              "use                                   object\n",
              "dtype: object"
            ]
          },
          "metadata": {
            "tags": []
          },
          "execution_count": 32
        }
      ]
    },
    {
      "cell_type": "markdown",
      "metadata": {
        "id": "xX5Q6Iw6zEFl",
        "colab_type": "text"
      },
      "source": [
        "### .dt accessor\n",
        "The pandas .dt accessor enables you to easily construct additional features based off of these datetimes."
      ]
    },
    {
      "cell_type": "code",
      "metadata": {
        "id": "wDlvZv8uzEFn",
        "colab_type": "code",
        "colab": {}
      },
      "source": [
        "# This is temporally commented out if we really want to date based analysis\n",
        "\n",
        "# ##  posted date features\n",
        "# df['posted_year']=df['posted_date'].dt.year\n",
        "# df['posted_month']=df['posted_date'].dt.month\n",
        "\n",
        "# ## Time to fund is the funded date minus the posted date\n",
        "# ## we add these fields because the homework question in the next notebook involves predicting time to fund\n",
        "# df['time_to_fund'] =df['funded_date'] - df['posted_date']\n",
        "# df['days_to_fund'] = df['time_to_fund'].dt.days\n",
        "\n",
        "# # expiration date features\n",
        "# ## Time to expiration is the expiration date minus the Posted Date\n",
        "# df['time_to_expire_date'] =df['planned_expiration_date'] - df['posted_date']\n",
        "# df['days_to_expire'] = df['time_to_expire_date'].dt.days"
      ],
      "execution_count": 0,
      "outputs": []
    },
    {
      "cell_type": "code",
      "metadata": {
        "id": "l2mhe23V46L3",
        "colab_type": "code",
        "colab": {}
      },
      "source": [
        "df['test feature'] = 1"
      ],
      "execution_count": 0,
      "outputs": []
    },
    {
      "cell_type": "markdown",
      "metadata": {
        "id": "_LNxoJ78zEFs",
        "colab_type": "text"
      },
      "source": [
        "## 3. One-hot encoding\n",
        "One-hot encoding is the process of converting either categorical or string data into a binary. Let's practice one-hot encoding by converting the \"tags\" column into a set of binary features indicating whether or not a particular tag appears in a given row. \n",
        "\n",
        "In order to do this we will first need to convert the \"tags\" column into a list of strings. Then, we will utilize the pandas `get_dummies` method to create the binary features.  Binary features are often referred as dummy features in the statistics world.\n",
        "\n"
      ]
    },
    {
      "cell_type": "code",
      "metadata": {
        "id": "9tO3bkizzEFu",
        "colab_type": "code",
        "outputId": "f17df1ec-ccf8-4b37-a8fa-1c85ce2f62b6",
        "colab": {}
      },
      "source": [
        "pd.get_dummies(df.sector).head(n=2)"
      ],
      "execution_count": 0,
      "outputs": [
        {
          "output_type": "execute_result",
          "data": {
            "text/html": [
              "<div>\n",
              "<style scoped>\n",
              "    .dataframe tbody tr th:only-of-type {\n",
              "        vertical-align: middle;\n",
              "    }\n",
              "\n",
              "    .dataframe tbody tr th {\n",
              "        vertical-align: top;\n",
              "    }\n",
              "\n",
              "    .dataframe thead th {\n",
              "        text-align: right;\n",
              "    }\n",
              "</style>\n",
              "<table border=\"1\" class=\"dataframe\">\n",
              "  <thead>\n",
              "    <tr style=\"text-align: right;\">\n",
              "      <th></th>\n",
              "      <th>Agriculture</th>\n",
              "      <th>Arts</th>\n",
              "      <th>Clothing</th>\n",
              "      <th>Construction</th>\n",
              "      <th>Education</th>\n",
              "      <th>Food</th>\n",
              "      <th>Health</th>\n",
              "      <th>Housing</th>\n",
              "      <th>Manufacturing</th>\n",
              "      <th>Personal Use</th>\n",
              "      <th>Retail</th>\n",
              "      <th>Services</th>\n",
              "      <th>Transportation</th>\n",
              "      <th>Wholesale</th>\n",
              "    </tr>\n",
              "  </thead>\n",
              "  <tbody>\n",
              "    <tr>\n",
              "      <th>0</th>\n",
              "      <td>0</td>\n",
              "      <td>0</td>\n",
              "      <td>0</td>\n",
              "      <td>0</td>\n",
              "      <td>0</td>\n",
              "      <td>0</td>\n",
              "      <td>0</td>\n",
              "      <td>0</td>\n",
              "      <td>0</td>\n",
              "      <td>0</td>\n",
              "      <td>1</td>\n",
              "      <td>0</td>\n",
              "      <td>0</td>\n",
              "      <td>0</td>\n",
              "    </tr>\n",
              "    <tr>\n",
              "      <th>1</th>\n",
              "      <td>0</td>\n",
              "      <td>0</td>\n",
              "      <td>0</td>\n",
              "      <td>0</td>\n",
              "      <td>0</td>\n",
              "      <td>1</td>\n",
              "      <td>0</td>\n",
              "      <td>0</td>\n",
              "      <td>0</td>\n",
              "      <td>0</td>\n",
              "      <td>0</td>\n",
              "      <td>0</td>\n",
              "      <td>0</td>\n",
              "      <td>0</td>\n",
              "    </tr>\n",
              "  </tbody>\n",
              "</table>\n",
              "</div>"
            ],
            "text/plain": [
              "   Agriculture  Arts  Clothing  Construction  Education  Food  Health  \\\n",
              "0            0     0         0             0          0     0       0   \n",
              "1            0     0         0             0          0     1       0   \n",
              "\n",
              "   Housing  Manufacturing  Personal Use  Retail  Services  Transportation  \\\n",
              "0        0              0             0       1         0               0   \n",
              "1        0              0             0       0         0               0   \n",
              "\n",
              "   Wholesale  \n",
              "0          0  \n",
              "1          0  "
            ]
          },
          "metadata": {
            "tags": []
          },
          "execution_count": 6
        }
      ]
    },
    {
      "cell_type": "code",
      "metadata": {
        "id": "nQrV7aYc7Lip",
        "colab_type": "code",
        "outputId": "218c1d2e-a27a-4263-a9ad-bc2c823f0139",
        "colab": {
          "base_uri": "https://localhost:8080/",
          "height": 85
        }
      },
      "source": [
        "df.sector.unique()"
      ],
      "execution_count": 0,
      "outputs": [
        {
          "output_type": "execute_result",
          "data": {
            "text/plain": [
              "array(['Retail', 'Food', 'Services', 'Clothing', 'Arts', 'Agriculture',\n",
              "       'Manufacturing', 'Construction', 'Wholesale', 'Health',\n",
              "       'Transportation', 'Education', 'Housing', 'Personal Use'],\n",
              "      dtype=object)"
            ]
          },
          "metadata": {
            "tags": []
          },
          "execution_count": 40
        }
      ]
    },
    {
      "cell_type": "markdown",
      "metadata": {
        "id": "Wdl2bXzezEFz",
        "colab_type": "text"
      },
      "source": [
        "## 4. Extracting features from strings\n",
        "\n",
        "String variables by themselves are generally not good inputs to algorithms; however, it is often possible to extract meaningful features from encoding the information that they contain.  Let's first find out which of our variables are string variables.  From there, let's review some of the variables and see if we can construct new features from the contents of these string variables.\n",
        "\n",
        "To discover which of our dataframe columns are string variables, we will utilize the pandas `dtypes` method, short for 'data type'.  In pandas, there are the following types:\n",
        "\n",
        "|       dtype        |        Description        |\n",
        "|:--------------------|:---------------------------|\n",
        "|      float         | Numeric value with a decimal point.  If NaNs exist in col, pandas will default to float|\n",
        "|        int         | Numerica values without decimal points. |\n",
        "|       bool         | Column consisting of True and False|\n",
        "| datetime64[ns, tz] | Objects which contain specific date and time |\n",
        "|   timedelta[ns]    | Object which indicates time elapsed between two datetimes |\n",
        "|     category       | Variables that can only have specified values |\n",
        "|      object        | Pandas representation of string variables |\n",
        "\n",
        "Let's now use pandas method `get_dtype_counts` to see what data types exist in the dataframe, and then apply `select_dtypes` to view all columns with `dtype == object`."
      ]
    },
    {
      "cell_type": "code",
      "metadata": {
        "id": "rRY6OK_OzEF0",
        "colab_type": "code",
        "outputId": "8d1e584f-4d1a-4314-9c57-4a29f6cc8be5",
        "colab": {
          "base_uri": "https://localhost:8080/",
          "height": 85
        }
      },
      "source": [
        "df.get_dtype_counts()"
      ],
      "execution_count": 0,
      "outputs": [
        {
          "output_type": "execute_result",
          "data": {
            "text/plain": [
              "datetime64[ns, UTC]    1\n",
              "int64                  6\n",
              "object                 5\n",
              "dtype: int64"
            ]
          },
          "metadata": {
            "tags": []
          },
          "execution_count": 41
        }
      ]
    },
    {
      "cell_type": "code",
      "metadata": {
        "id": "e0N81ZUuzEF4",
        "colab_type": "code",
        "outputId": "665fb189-a3b2-4563-e4ca-8e6853330072",
        "colab": {
          "base_uri": "https://localhost:8080/",
          "height": 1000
        }
      },
      "source": [
        "df.select_dtypes(include=[int])"
      ],
      "execution_count": 0,
      "outputs": [
        {
          "output_type": "execute_result",
          "data": {
            "text/html": [
              "<div>\n",
              "<style scoped>\n",
              "    .dataframe tbody tr th:only-of-type {\n",
              "        vertical-align: middle;\n",
              "    }\n",
              "\n",
              "    .dataframe tbody tr th {\n",
              "        vertical-align: top;\n",
              "    }\n",
              "\n",
              "    .dataframe thead th {\n",
              "        text-align: right;\n",
              "    }\n",
              "</style>\n",
              "<table border=\"1\" class=\"dataframe\">\n",
              "  <thead>\n",
              "    <tr style=\"text-align: right;\">\n",
              "      <th></th>\n",
              "      <th>id_number</th>\n",
              "      <th>loan_amount</th>\n",
              "      <th>lender_count</th>\n",
              "      <th>funded_amount</th>\n",
              "      <th>repayment_term</th>\n",
              "      <th>test feature</th>\n",
              "    </tr>\n",
              "  </thead>\n",
              "  <tbody>\n",
              "    <tr>\n",
              "      <th>0</th>\n",
              "      <td>736066</td>\n",
              "      <td>4825</td>\n",
              "      <td>60</td>\n",
              "      <td>4825</td>\n",
              "      <td>8</td>\n",
              "      <td>1</td>\n",
              "    </tr>\n",
              "    <tr>\n",
              "      <th>1</th>\n",
              "      <td>743090</td>\n",
              "      <td>975</td>\n",
              "      <td>34</td>\n",
              "      <td>975</td>\n",
              "      <td>12</td>\n",
              "      <td>1</td>\n",
              "    </tr>\n",
              "    <tr>\n",
              "      <th>2</th>\n",
              "      <td>743120</td>\n",
              "      <td>950</td>\n",
              "      <td>25</td>\n",
              "      <td>950</td>\n",
              "      <td>14</td>\n",
              "      <td>1</td>\n",
              "    </tr>\n",
              "    <tr>\n",
              "      <th>3</th>\n",
              "      <td>743121</td>\n",
              "      <td>825</td>\n",
              "      <td>28</td>\n",
              "      <td>825</td>\n",
              "      <td>14</td>\n",
              "      <td>1</td>\n",
              "    </tr>\n",
              "    <tr>\n",
              "      <th>4</th>\n",
              "      <td>743124</td>\n",
              "      <td>725</td>\n",
              "      <td>21</td>\n",
              "      <td>725</td>\n",
              "      <td>13</td>\n",
              "      <td>1</td>\n",
              "    </tr>\n",
              "    <tr>\n",
              "      <th>5</th>\n",
              "      <td>743125</td>\n",
              "      <td>725</td>\n",
              "      <td>27</td>\n",
              "      <td>725</td>\n",
              "      <td>13</td>\n",
              "      <td>1</td>\n",
              "    </tr>\n",
              "    <tr>\n",
              "      <th>6</th>\n",
              "      <td>743130</td>\n",
              "      <td>725</td>\n",
              "      <td>27</td>\n",
              "      <td>725</td>\n",
              "      <td>13</td>\n",
              "      <td>1</td>\n",
              "    </tr>\n",
              "    <tr>\n",
              "      <th>7</th>\n",
              "      <td>743134</td>\n",
              "      <td>525</td>\n",
              "      <td>14</td>\n",
              "      <td>525</td>\n",
              "      <td>13</td>\n",
              "      <td>1</td>\n",
              "    </tr>\n",
              "    <tr>\n",
              "      <th>8</th>\n",
              "      <td>743207</td>\n",
              "      <td>950</td>\n",
              "      <td>35</td>\n",
              "      <td>950</td>\n",
              "      <td>14</td>\n",
              "      <td>1</td>\n",
              "    </tr>\n",
              "    <tr>\n",
              "      <th>9</th>\n",
              "      <td>743228</td>\n",
              "      <td>500</td>\n",
              "      <td>10</td>\n",
              "      <td>500</td>\n",
              "      <td>10</td>\n",
              "      <td>1</td>\n",
              "    </tr>\n",
              "    <tr>\n",
              "      <th>10</th>\n",
              "      <td>743233</td>\n",
              "      <td>200</td>\n",
              "      <td>6</td>\n",
              "      <td>200</td>\n",
              "      <td>11</td>\n",
              "      <td>1</td>\n",
              "    </tr>\n",
              "    <tr>\n",
              "      <th>11</th>\n",
              "      <td>743236</td>\n",
              "      <td>225</td>\n",
              "      <td>8</td>\n",
              "      <td>225</td>\n",
              "      <td>14</td>\n",
              "      <td>1</td>\n",
              "    </tr>\n",
              "    <tr>\n",
              "      <th>12</th>\n",
              "      <td>743238</td>\n",
              "      <td>400</td>\n",
              "      <td>10</td>\n",
              "      <td>400</td>\n",
              "      <td>14</td>\n",
              "      <td>1</td>\n",
              "    </tr>\n",
              "    <tr>\n",
              "      <th>13</th>\n",
              "      <td>744232</td>\n",
              "      <td>5850</td>\n",
              "      <td>176</td>\n",
              "      <td>5850</td>\n",
              "      <td>12</td>\n",
              "      <td>1</td>\n",
              "    </tr>\n",
              "    <tr>\n",
              "      <th>14</th>\n",
              "      <td>744237</td>\n",
              "      <td>1250</td>\n",
              "      <td>42</td>\n",
              "      <td>1250</td>\n",
              "      <td>10</td>\n",
              "      <td>1</td>\n",
              "    </tr>\n",
              "    <tr>\n",
              "      <th>15</th>\n",
              "      <td>744240</td>\n",
              "      <td>500</td>\n",
              "      <td>13</td>\n",
              "      <td>500</td>\n",
              "      <td>10</td>\n",
              "      <td>1</td>\n",
              "    </tr>\n",
              "    <tr>\n",
              "      <th>16</th>\n",
              "      <td>744243</td>\n",
              "      <td>1000</td>\n",
              "      <td>31</td>\n",
              "      <td>1000</td>\n",
              "      <td>13</td>\n",
              "      <td>1</td>\n",
              "    </tr>\n",
              "    <tr>\n",
              "      <th>17</th>\n",
              "      <td>767909</td>\n",
              "      <td>300</td>\n",
              "      <td>12</td>\n",
              "      <td>300</td>\n",
              "      <td>10</td>\n",
              "      <td>1</td>\n",
              "    </tr>\n",
              "    <tr>\n",
              "      <th>18</th>\n",
              "      <td>1266423</td>\n",
              "      <td>50000</td>\n",
              "      <td>1519</td>\n",
              "      <td>50000</td>\n",
              "      <td>12</td>\n",
              "      <td>1</td>\n",
              "    </tr>\n",
              "    <tr>\n",
              "      <th>19</th>\n",
              "      <td>1480779</td>\n",
              "      <td>50000</td>\n",
              "      <td>1574</td>\n",
              "      <td>50000</td>\n",
              "      <td>14</td>\n",
              "      <td>1</td>\n",
              "    </tr>\n",
              "    <tr>\n",
              "      <th>20</th>\n",
              "      <td>741324</td>\n",
              "      <td>950</td>\n",
              "      <td>30</td>\n",
              "      <td>950</td>\n",
              "      <td>12</td>\n",
              "      <td>1</td>\n",
              "    </tr>\n",
              "    <tr>\n",
              "      <th>21</th>\n",
              "      <td>741327</td>\n",
              "      <td>1200</td>\n",
              "      <td>40</td>\n",
              "      <td>1200</td>\n",
              "      <td>14</td>\n",
              "      <td>1</td>\n",
              "    </tr>\n",
              "    <tr>\n",
              "      <th>22</th>\n",
              "      <td>741383</td>\n",
              "      <td>1025</td>\n",
              "      <td>33</td>\n",
              "      <td>1025</td>\n",
              "      <td>12</td>\n",
              "      <td>1</td>\n",
              "    </tr>\n",
              "    <tr>\n",
              "      <th>23</th>\n",
              "      <td>741390</td>\n",
              "      <td>950</td>\n",
              "      <td>30</td>\n",
              "      <td>950</td>\n",
              "      <td>14</td>\n",
              "      <td>1</td>\n",
              "    </tr>\n",
              "    <tr>\n",
              "      <th>24</th>\n",
              "      <td>741395</td>\n",
              "      <td>900</td>\n",
              "      <td>30</td>\n",
              "      <td>900</td>\n",
              "      <td>12</td>\n",
              "      <td>1</td>\n",
              "    </tr>\n",
              "    <tr>\n",
              "      <th>25</th>\n",
              "      <td>741422</td>\n",
              "      <td>3825</td>\n",
              "      <td>102</td>\n",
              "      <td>3825</td>\n",
              "      <td>9</td>\n",
              "      <td>1</td>\n",
              "    </tr>\n",
              "    <tr>\n",
              "      <th>26</th>\n",
              "      <td>741431</td>\n",
              "      <td>850</td>\n",
              "      <td>25</td>\n",
              "      <td>850</td>\n",
              "      <td>12</td>\n",
              "      <td>1</td>\n",
              "    </tr>\n",
              "    <tr>\n",
              "      <th>27</th>\n",
              "      <td>741433</td>\n",
              "      <td>875</td>\n",
              "      <td>26</td>\n",
              "      <td>875</td>\n",
              "      <td>12</td>\n",
              "      <td>1</td>\n",
              "    </tr>\n",
              "    <tr>\n",
              "      <th>28</th>\n",
              "      <td>741435</td>\n",
              "      <td>750</td>\n",
              "      <td>16</td>\n",
              "      <td>750</td>\n",
              "      <td>12</td>\n",
              "      <td>1</td>\n",
              "    </tr>\n",
              "    <tr>\n",
              "      <th>29</th>\n",
              "      <td>741437</td>\n",
              "      <td>475</td>\n",
              "      <td>15</td>\n",
              "      <td>475</td>\n",
              "      <td>9</td>\n",
              "      <td>1</td>\n",
              "    </tr>\n",
              "    <tr>\n",
              "      <th>...</th>\n",
              "      <td>...</td>\n",
              "      <td>...</td>\n",
              "      <td>...</td>\n",
              "      <td>...</td>\n",
              "      <td>...</td>\n",
              "      <td>...</td>\n",
              "    </tr>\n",
              "    <tr>\n",
              "      <th>5989</th>\n",
              "      <td>1569410</td>\n",
              "      <td>200</td>\n",
              "      <td>6</td>\n",
              "      <td>200</td>\n",
              "      <td>14</td>\n",
              "      <td>1</td>\n",
              "    </tr>\n",
              "    <tr>\n",
              "      <th>5990</th>\n",
              "      <td>1569437</td>\n",
              "      <td>200</td>\n",
              "      <td>5</td>\n",
              "      <td>200</td>\n",
              "      <td>14</td>\n",
              "      <td>1</td>\n",
              "    </tr>\n",
              "    <tr>\n",
              "      <th>5991</th>\n",
              "      <td>1569452</td>\n",
              "      <td>200</td>\n",
              "      <td>8</td>\n",
              "      <td>200</td>\n",
              "      <td>14</td>\n",
              "      <td>1</td>\n",
              "    </tr>\n",
              "    <tr>\n",
              "      <th>5992</th>\n",
              "      <td>1569456</td>\n",
              "      <td>200</td>\n",
              "      <td>8</td>\n",
              "      <td>200</td>\n",
              "      <td>14</td>\n",
              "      <td>1</td>\n",
              "    </tr>\n",
              "    <tr>\n",
              "      <th>5993</th>\n",
              "      <td>1569459</td>\n",
              "      <td>200</td>\n",
              "      <td>6</td>\n",
              "      <td>200</td>\n",
              "      <td>14</td>\n",
              "      <td>1</td>\n",
              "    </tr>\n",
              "    <tr>\n",
              "      <th>5994</th>\n",
              "      <td>1569464</td>\n",
              "      <td>200</td>\n",
              "      <td>8</td>\n",
              "      <td>200</td>\n",
              "      <td>14</td>\n",
              "      <td>1</td>\n",
              "    </tr>\n",
              "    <tr>\n",
              "      <th>5995</th>\n",
              "      <td>1569471</td>\n",
              "      <td>200</td>\n",
              "      <td>7</td>\n",
              "      <td>200</td>\n",
              "      <td>14</td>\n",
              "      <td>1</td>\n",
              "    </tr>\n",
              "    <tr>\n",
              "      <th>5996</th>\n",
              "      <td>1569476</td>\n",
              "      <td>200</td>\n",
              "      <td>7</td>\n",
              "      <td>200</td>\n",
              "      <td>14</td>\n",
              "      <td>1</td>\n",
              "    </tr>\n",
              "    <tr>\n",
              "      <th>5997</th>\n",
              "      <td>1569481</td>\n",
              "      <td>200</td>\n",
              "      <td>8</td>\n",
              "      <td>200</td>\n",
              "      <td>14</td>\n",
              "      <td>1</td>\n",
              "    </tr>\n",
              "    <tr>\n",
              "      <th>5998</th>\n",
              "      <td>1569497</td>\n",
              "      <td>500</td>\n",
              "      <td>13</td>\n",
              "      <td>500</td>\n",
              "      <td>14</td>\n",
              "      <td>1</td>\n",
              "    </tr>\n",
              "    <tr>\n",
              "      <th>5999</th>\n",
              "      <td>1568794</td>\n",
              "      <td>200</td>\n",
              "      <td>8</td>\n",
              "      <td>200</td>\n",
              "      <td>14</td>\n",
              "      <td>1</td>\n",
              "    </tr>\n",
              "    <tr>\n",
              "      <th>6000</th>\n",
              "      <td>1568795</td>\n",
              "      <td>200</td>\n",
              "      <td>8</td>\n",
              "      <td>200</td>\n",
              "      <td>14</td>\n",
              "      <td>1</td>\n",
              "    </tr>\n",
              "    <tr>\n",
              "      <th>6001</th>\n",
              "      <td>1568806</td>\n",
              "      <td>200</td>\n",
              "      <td>8</td>\n",
              "      <td>200</td>\n",
              "      <td>14</td>\n",
              "      <td>1</td>\n",
              "    </tr>\n",
              "    <tr>\n",
              "      <th>6002</th>\n",
              "      <td>1568807</td>\n",
              "      <td>200</td>\n",
              "      <td>8</td>\n",
              "      <td>200</td>\n",
              "      <td>14</td>\n",
              "      <td>1</td>\n",
              "    </tr>\n",
              "    <tr>\n",
              "      <th>6003</th>\n",
              "      <td>1568825</td>\n",
              "      <td>200</td>\n",
              "      <td>6</td>\n",
              "      <td>200</td>\n",
              "      <td>14</td>\n",
              "      <td>1</td>\n",
              "    </tr>\n",
              "    <tr>\n",
              "      <th>6004</th>\n",
              "      <td>1568826</td>\n",
              "      <td>200</td>\n",
              "      <td>8</td>\n",
              "      <td>200</td>\n",
              "      <td>14</td>\n",
              "      <td>1</td>\n",
              "    </tr>\n",
              "    <tr>\n",
              "      <th>6005</th>\n",
              "      <td>1568829</td>\n",
              "      <td>200</td>\n",
              "      <td>8</td>\n",
              "      <td>200</td>\n",
              "      <td>14</td>\n",
              "      <td>1</td>\n",
              "    </tr>\n",
              "    <tr>\n",
              "      <th>6006</th>\n",
              "      <td>1568834</td>\n",
              "      <td>200</td>\n",
              "      <td>6</td>\n",
              "      <td>200</td>\n",
              "      <td>14</td>\n",
              "      <td>1</td>\n",
              "    </tr>\n",
              "    <tr>\n",
              "      <th>6007</th>\n",
              "      <td>1568835</td>\n",
              "      <td>200</td>\n",
              "      <td>6</td>\n",
              "      <td>200</td>\n",
              "      <td>14</td>\n",
              "      <td>1</td>\n",
              "    </tr>\n",
              "    <tr>\n",
              "      <th>6008</th>\n",
              "      <td>1568840</td>\n",
              "      <td>200</td>\n",
              "      <td>7</td>\n",
              "      <td>200</td>\n",
              "      <td>14</td>\n",
              "      <td>1</td>\n",
              "    </tr>\n",
              "    <tr>\n",
              "      <th>6009</th>\n",
              "      <td>1568842</td>\n",
              "      <td>200</td>\n",
              "      <td>8</td>\n",
              "      <td>200</td>\n",
              "      <td>14</td>\n",
              "      <td>1</td>\n",
              "    </tr>\n",
              "    <tr>\n",
              "      <th>6010</th>\n",
              "      <td>1568843</td>\n",
              "      <td>200</td>\n",
              "      <td>8</td>\n",
              "      <td>200</td>\n",
              "      <td>14</td>\n",
              "      <td>1</td>\n",
              "    </tr>\n",
              "    <tr>\n",
              "      <th>6011</th>\n",
              "      <td>1568850</td>\n",
              "      <td>200</td>\n",
              "      <td>8</td>\n",
              "      <td>200</td>\n",
              "      <td>14</td>\n",
              "      <td>1</td>\n",
              "    </tr>\n",
              "    <tr>\n",
              "      <th>6012</th>\n",
              "      <td>1568857</td>\n",
              "      <td>200</td>\n",
              "      <td>7</td>\n",
              "      <td>200</td>\n",
              "      <td>14</td>\n",
              "      <td>1</td>\n",
              "    </tr>\n",
              "    <tr>\n",
              "      <th>6013</th>\n",
              "      <td>1568859</td>\n",
              "      <td>200</td>\n",
              "      <td>8</td>\n",
              "      <td>200</td>\n",
              "      <td>14</td>\n",
              "      <td>1</td>\n",
              "    </tr>\n",
              "    <tr>\n",
              "      <th>6014</th>\n",
              "      <td>1568871</td>\n",
              "      <td>200</td>\n",
              "      <td>8</td>\n",
              "      <td>200</td>\n",
              "      <td>14</td>\n",
              "      <td>1</td>\n",
              "    </tr>\n",
              "    <tr>\n",
              "      <th>6015</th>\n",
              "      <td>1568880</td>\n",
              "      <td>200</td>\n",
              "      <td>8</td>\n",
              "      <td>200</td>\n",
              "      <td>14</td>\n",
              "      <td>1</td>\n",
              "    </tr>\n",
              "    <tr>\n",
              "      <th>6016</th>\n",
              "      <td>1568883</td>\n",
              "      <td>200</td>\n",
              "      <td>6</td>\n",
              "      <td>200</td>\n",
              "      <td>14</td>\n",
              "      <td>1</td>\n",
              "    </tr>\n",
              "    <tr>\n",
              "      <th>6017</th>\n",
              "      <td>1568887</td>\n",
              "      <td>200</td>\n",
              "      <td>8</td>\n",
              "      <td>200</td>\n",
              "      <td>14</td>\n",
              "      <td>1</td>\n",
              "    </tr>\n",
              "    <tr>\n",
              "      <th>6018</th>\n",
              "      <td>1568890</td>\n",
              "      <td>200</td>\n",
              "      <td>8</td>\n",
              "      <td>200</td>\n",
              "      <td>14</td>\n",
              "      <td>1</td>\n",
              "    </tr>\n",
              "  </tbody>\n",
              "</table>\n",
              "<p>6019 rows × 6 columns</p>\n",
              "</div>"
            ],
            "text/plain": [
              "      id_number  loan_amount  lender_count  funded_amount  repayment_term  \\\n",
              "0        736066         4825            60           4825               8   \n",
              "1        743090          975            34            975              12   \n",
              "2        743120          950            25            950              14   \n",
              "3        743121          825            28            825              14   \n",
              "4        743124          725            21            725              13   \n",
              "5        743125          725            27            725              13   \n",
              "6        743130          725            27            725              13   \n",
              "7        743134          525            14            525              13   \n",
              "8        743207          950            35            950              14   \n",
              "9        743228          500            10            500              10   \n",
              "10       743233          200             6            200              11   \n",
              "11       743236          225             8            225              14   \n",
              "12       743238          400            10            400              14   \n",
              "13       744232         5850           176           5850              12   \n",
              "14       744237         1250            42           1250              10   \n",
              "15       744240          500            13            500              10   \n",
              "16       744243         1000            31           1000              13   \n",
              "17       767909          300            12            300              10   \n",
              "18      1266423        50000          1519          50000              12   \n",
              "19      1480779        50000          1574          50000              14   \n",
              "20       741324          950            30            950              12   \n",
              "21       741327         1200            40           1200              14   \n",
              "22       741383         1025            33           1025              12   \n",
              "23       741390          950            30            950              14   \n",
              "24       741395          900            30            900              12   \n",
              "25       741422         3825           102           3825               9   \n",
              "26       741431          850            25            850              12   \n",
              "27       741433          875            26            875              12   \n",
              "28       741435          750            16            750              12   \n",
              "29       741437          475            15            475               9   \n",
              "...         ...          ...           ...            ...             ...   \n",
              "5989    1569410          200             6            200              14   \n",
              "5990    1569437          200             5            200              14   \n",
              "5991    1569452          200             8            200              14   \n",
              "5992    1569456          200             8            200              14   \n",
              "5993    1569459          200             6            200              14   \n",
              "5994    1569464          200             8            200              14   \n",
              "5995    1569471          200             7            200              14   \n",
              "5996    1569476          200             7            200              14   \n",
              "5997    1569481          200             8            200              14   \n",
              "5998    1569497          500            13            500              14   \n",
              "5999    1568794          200             8            200              14   \n",
              "6000    1568795          200             8            200              14   \n",
              "6001    1568806          200             8            200              14   \n",
              "6002    1568807          200             8            200              14   \n",
              "6003    1568825          200             6            200              14   \n",
              "6004    1568826          200             8            200              14   \n",
              "6005    1568829          200             8            200              14   \n",
              "6006    1568834          200             6            200              14   \n",
              "6007    1568835          200             6            200              14   \n",
              "6008    1568840          200             7            200              14   \n",
              "6009    1568842          200             8            200              14   \n",
              "6010    1568843          200             8            200              14   \n",
              "6011    1568850          200             8            200              14   \n",
              "6012    1568857          200             7            200              14   \n",
              "6013    1568859          200             8            200              14   \n",
              "6014    1568871          200             8            200              14   \n",
              "6015    1568880          200             8            200              14   \n",
              "6016    1568883          200             6            200              14   \n",
              "6017    1568887          200             8            200              14   \n",
              "6018    1568890          200             8            200              14   \n",
              "\n",
              "      test feature  \n",
              "0                1  \n",
              "1                1  \n",
              "2                1  \n",
              "3                1  \n",
              "4                1  \n",
              "5                1  \n",
              "6                1  \n",
              "7                1  \n",
              "8                1  \n",
              "9                1  \n",
              "10               1  \n",
              "11               1  \n",
              "12               1  \n",
              "13               1  \n",
              "14               1  \n",
              "15               1  \n",
              "16               1  \n",
              "17               1  \n",
              "18               1  \n",
              "19               1  \n",
              "20               1  \n",
              "21               1  \n",
              "22               1  \n",
              "23               1  \n",
              "24               1  \n",
              "25               1  \n",
              "26               1  \n",
              "27               1  \n",
              "28               1  \n",
              "29               1  \n",
              "...            ...  \n",
              "5989             1  \n",
              "5990             1  \n",
              "5991             1  \n",
              "5992             1  \n",
              "5993             1  \n",
              "5994             1  \n",
              "5995             1  \n",
              "5996             1  \n",
              "5997             1  \n",
              "5998             1  \n",
              "5999             1  \n",
              "6000             1  \n",
              "6001             1  \n",
              "6002             1  \n",
              "6003             1  \n",
              "6004             1  \n",
              "6005             1  \n",
              "6006             1  \n",
              "6007             1  \n",
              "6008             1  \n",
              "6009             1  \n",
              "6010             1  \n",
              "6011             1  \n",
              "6012             1  \n",
              "6013             1  \n",
              "6014             1  \n",
              "6015             1  \n",
              "6016             1  \n",
              "6017             1  \n",
              "6018             1  \n",
              "\n",
              "[6019 rows x 6 columns]"
            ]
          },
          "metadata": {
            "tags": []
          },
          "execution_count": 49
        }
      ]
    },
    {
      "cell_type": "markdown",
      "metadata": {
        "id": "qJEqP3EozEF9",
        "colab_type": "text"
      },
      "source": [
        "Maybe the length of text description could help use"
      ]
    },
    {
      "cell_type": "code",
      "metadata": {
        "id": "Ee7JHsA1zEF-",
        "colab_type": "code",
        "colab": {}
      },
      "source": [
        "df['description_length']  = df.description.str.len()"
      ],
      "execution_count": 0,
      "outputs": []
    },
    {
      "cell_type": "code",
      "metadata": {
        "id": "WM6BhGq0zEGC",
        "colab_type": "code",
        "outputId": "ef1f34fd-ef13-410e-887a-80e8270a7a89",
        "colab": {
          "base_uri": "https://localhost:8080/",
          "height": 119
        }
      },
      "source": [
        "df['description_length'].tail()"
      ],
      "execution_count": 0,
      "outputs": [
        {
          "output_type": "execute_result",
          "data": {
            "text/plain": [
              "6014    660.0\n",
              "6015    588.0\n",
              "6016    614.0\n",
              "6017    591.0\n",
              "6018    592.0\n",
              "Name: description_length, dtype: float64"
            ]
          },
          "metadata": {
            "tags": []
          },
          "execution_count": 51
        }
      ]
    },
    {
      "cell_type": "markdown",
      "metadata": {
        "id": "KHCjbuGmzEGG",
        "colab_type": "text"
      },
      "source": [
        "## 5. Feature Scaling\n",
        "\n",
        "We will not overwrite our dataframe with scaled values because the appropriate scaling technique depends on the algorithm.  These are the three most common feature scaling techniques:\n",
        "1. Normalization\n",
        "2. Standardization\n",
        "3. Log-transformation\n",
        "\n",
        "Normalization is the process of rescaling the data from 0-1.  The formula for this approach is:\n",
        "\n",
        "`X_std = (X - X.min(axis=0)) / (X.max(axis=0) - X.min(axis=0))\n",
        "X_scaled = X_std * (max - min) + min` "
      ]
    },
    {
      "cell_type": "code",
      "metadata": {
        "id": "zBfRjt8qzEGH",
        "colab_type": "code",
        "outputId": "43dcc3e8-e302-4991-b65a-60cbf7a0a28b",
        "colab": {
          "base_uri": "https://localhost:8080/",
          "height": 51
        }
      },
      "source": [
        "preprocessing.MinMaxScaler()\n",
        "min_max_scaler = preprocessing.MinMaxScaler()\n",
        "normalized = min_max_scaler.fit_transform(df['loan_amount'].astype(np.float64).values.reshape(-1,1))[:,0]\n",
        "print(\"Pre Scaling\\tMin: {0}\\t\\t Max: {1}\\tMean: {2:3f}\".format(df['loan_amount'].min(),df['loan_amount'].max(),df['loan_amount'].mean()))\n",
        "print(\"Post Scaling\\tMin: {0}\\t Max: {1:.3f}\\tMean: {2:3f}\".format(np.min(normalized),np.max(normalized),np.mean(normalized)))"
      ],
      "execution_count": 0,
      "outputs": [
        {
          "output_type": "stream",
          "text": [
            "Pre Scaling\tMin: 50\t\t Max: 80000\tMean: 1499.011464\n",
            "Post Scaling\tMin: 0.0\t Max: 1.000\tMean: 0.018124\n"
          ],
          "name": "stdout"
        }
      ]
    },
    {
      "cell_type": "markdown",
      "metadata": {
        "id": "NMy7MqDEzEGK",
        "colab_type": "text"
      },
      "source": [
        "Standardization assumes normally distributed data (i.e., Gaussian) and scales the data so that it has a zero mean and unit variance.  Below is the formula:\n",
        "$${\\dfrac{x - \\bar x}{\\sigma}}$$"
      ]
    },
    {
      "cell_type": "code",
      "metadata": {
        "id": "KLNoO4EDzEGK",
        "colab_type": "code",
        "outputId": "018369f9-18f9-4f60-85f6-6e6713be9e8b",
        "colab": {}
      },
      "source": [
        "standardized = preprocessing.scale(df['loan_amount'].astype(np.float64))\n",
        "print(\"Post Scaling\\tMin: {0:3f}\\t Max: {1:3f}\\tMean: {2:3f}\".format(np.min(standardized),np.max(standardized),np.mean(standardized)))"
      ],
      "execution_count": 0,
      "outputs": [
        {
          "output_type": "stream",
          "text": [
            "Post Scaling\tMin: -0.576765\t Max: 31.246555\tMean: -0.000000\n"
          ],
          "name": "stdout"
        }
      ]
    },
    {
      "cell_type": "markdown",
      "metadata": {
        "id": "NCVo7KyLzEGN",
        "colab_type": "text"
      },
      "source": [
        "From these values, it appears that our data has a skewed distribution and is actually a good candidate for a log transformation."
      ]
    },
    {
      "cell_type": "code",
      "metadata": {
        "id": "aZWxvbnhzEGN",
        "colab_type": "code",
        "outputId": "22736dd1-c866-4917-ae54-3819f4afc11a",
        "colab": {}
      },
      "source": [
        "plt.hist(df['loan_amount'])\n",
        "plt.show()\n",
        "log_loan_amount = np.log(df['loan_amount'])\n",
        "plt.hist(log_loan_amount)\n",
        "plt.show()"
      ],
      "execution_count": 0,
      "outputs": [
        {
          "output_type": "display_data",
          "data": {
            "image/png": "[encoded data removed]",
            "text/plain": [
              "<Figure size 432x288 with 1 Axes>"
            ]
          },
          "metadata": {
            "tags": []
          }
        },
        {
          "output_type": "display_data",
          "data": {
            "image/png": "[encoded data removed]",
            "text/plain": [
              "<Figure size 432x288 with 1 Axes>"
            ]
          },
          "metadata": {
            "tags": []
          }
        }
      ]
    },
    {
      "cell_type": "markdown",
      "metadata": {
        "id": "nveHdozVzEGQ",
        "colab_type": "text"
      },
      "source": [
        "## 7. Data Imputation / cleaning\n",
        "\n",
        "Missing data can be informative, but it also will prevent many algorithms from training.  In order to enable our models to train while preserving the fact that some data is missing, we are going to:\n",
        "1. Create a new column that indicates whether or not that column had missing data.\n",
        "In pandas, missing data is either represented as NaN (Not a Number), or NaT (Not a Time).  While we look at our missing data, let's look at strings, numeric, and time objects separately.\n",
        "\n",
        "2. Impute missing data with the column's mean.\n",
        "\n",
        "First, let's have a quick refresher on data types in our dataframe and create lists of all of the columns for specific data types."
      ]
    },
    {
      "cell_type": "code",
      "metadata": {
        "id": "KectL4ljzEGQ",
        "colab_type": "code",
        "outputId": "fdf16453-c8fb-4023-d8fe-e48f59fd828c",
        "colab": {
          "base_uri": "https://localhost:8080/",
          "height": 102
        }
      },
      "source": [
        "df.get_dtype_counts()"
      ],
      "execution_count": 0,
      "outputs": [
        {
          "output_type": "execute_result",
          "data": {
            "text/plain": [
              "datetime64[ns, UTC]    1\n",
              "int64                  6\n",
              "object                 5\n",
              "float64                1\n",
              "dtype: int64"
            ]
          },
          "metadata": {
            "tags": []
          },
          "execution_count": 54
        }
      ]
    },
    {
      "cell_type": "code",
      "metadata": {
        "id": "AwVX3Rp0zEGS",
        "colab_type": "code",
        "colab": {}
      },
      "source": [
        "time_columns = df.select_dtypes(include=['datetime64','timedelta64']).columns\n",
        "str_columns = df.select_dtypes(include=[object]).columns\n",
        "numeric_columns = df.select_dtypes(exclude=[object,'datetime64','timedelta64']).columns"
      ],
      "execution_count": 0,
      "outputs": []
    },
    {
      "cell_type": "markdown",
      "metadata": {
        "id": "_saQ9FlYzEGT",
        "colab_type": "text"
      },
      "source": [
        "Now, let's use pandas `isnull` and `sum` functions to see how many observations of each column are missing.\n",
        "Since there are a lot of columns in this dataframe, let's restrict our returned dataframe to columns which have \n",
        "missing data"
      ]
    },
    {
      "cell_type": "code",
      "metadata": {
        "id": "fMFReZSbzEGU",
        "colab_type": "code",
        "outputId": "0feadfcd-e5c0-4034-9d52-0f6d26a9f11d",
        "colab": {
          "base_uri": "https://localhost:8080/",
          "height": 34
        }
      },
      "source": [
        "df[time_columns].isnull().sum()[df[time_columns].isnull().sum()>0]"
      ],
      "execution_count": 0,
      "outputs": [
        {
          "output_type": "execute_result",
          "data": {
            "text/plain": [
              "Series([], dtype: float64)"
            ]
          },
          "metadata": {
            "tags": []
          },
          "execution_count": 56
        }
      ]
    },
    {
      "cell_type": "code",
      "metadata": {
        "id": "6iWYBvXgzEGW",
        "colab_type": "code",
        "outputId": "3cfa1467-aa99-412d-ade8-883d21ebc3ee",
        "colab": {}
      },
      "source": [
        "df[str_columns].isnull().sum()[df[str_columns].isnull().sum()>0]"
      ],
      "execution_count": 0,
      "outputs": [
        {
          "output_type": "execute_result",
          "data": {
            "text/plain": [
              "location_country_code     17\n",
              "description              342\n",
              "use                      342\n",
              "dtype: int64"
            ]
          },
          "metadata": {
            "tags": []
          },
          "execution_count": 18
        }
      ]
    },
    {
      "cell_type": "code",
      "metadata": {
        "id": "evKh2VJDzEGX",
        "colab_type": "code",
        "outputId": "f3a7c74c-6b47-41c4-c1aa-9cc689751747",
        "colab": {}
      },
      "source": [
        "df[numeric_columns].isnull().sum()[df[numeric_columns].isnull().sum()>0]"
      ],
      "execution_count": 0,
      "outputs": [
        {
          "output_type": "execute_result",
          "data": {
            "text/plain": [
              "description_length    342\n",
              "dtype: int64"
            ]
          },
          "metadata": {
            "tags": []
          },
          "execution_count": 19
        }
      ]
    },
    {
      "cell_type": "markdown",
      "metadata": {
        "id": "uHOLfsIIzEGZ",
        "colab_type": "text"
      },
      "source": [
        "With missing data, you should always check to see if there is a systemic difference between observations with and without missing data."
      ]
    },
    {
      "cell_type": "code",
      "metadata": {
        "id": "FyliBJepzEGa",
        "colab_type": "code",
        "outputId": "5feca6f9-e47e-44d4-a11a-8cfd09ab62af",
        "colab": {}
      },
      "source": [
        "df[df['funded_date'].isnull()].describe()"
      ],
      "execution_count": 0,
      "outputs": [
        {
          "output_type": "execute_result",
          "data": {
            "text/html": [
              "<div>\n",
              "<style scoped>\n",
              "    .dataframe tbody tr th:only-of-type {\n",
              "        vertical-align: middle;\n",
              "    }\n",
              "\n",
              "    .dataframe tbody tr th {\n",
              "        vertical-align: top;\n",
              "    }\n",
              "\n",
              "    .dataframe thead th {\n",
              "        text-align: right;\n",
              "    }\n",
              "</style>\n",
              "<table border=\"1\" class=\"dataframe\">\n",
              "  <thead>\n",
              "    <tr style=\"text-align: right;\">\n",
              "      <th></th>\n",
              "      <th>id_number</th>\n",
              "      <th>loan_amount</th>\n",
              "      <th>lender_count</th>\n",
              "      <th>funded_amount</th>\n",
              "      <th>repayment_term</th>\n",
              "      <th>description_length</th>\n",
              "    </tr>\n",
              "  </thead>\n",
              "  <tbody>\n",
              "    <tr>\n",
              "      <th>count</th>\n",
              "      <td>9.370000e+02</td>\n",
              "      <td>937.000000</td>\n",
              "      <td>937.000000</td>\n",
              "      <td>937.000000</td>\n",
              "      <td>937.000000</td>\n",
              "      <td>937.000000</td>\n",
              "    </tr>\n",
              "    <tr>\n",
              "      <th>mean</th>\n",
              "      <td>1.553091e+06</td>\n",
              "      <td>1566.942369</td>\n",
              "      <td>13.839915</td>\n",
              "      <td>449.599787</td>\n",
              "      <td>12.324440</td>\n",
              "      <td>755.668090</td>\n",
              "    </tr>\n",
              "    <tr>\n",
              "      <th>std</th>\n",
              "      <td>6.970535e+04</td>\n",
              "      <td>1959.649153</td>\n",
              "      <td>24.887396</td>\n",
              "      <td>881.083386</td>\n",
              "      <td>4.269421</td>\n",
              "      <td>270.137706</td>\n",
              "    </tr>\n",
              "    <tr>\n",
              "      <th>min</th>\n",
              "      <td>1.035139e+06</td>\n",
              "      <td>100.000000</td>\n",
              "      <td>0.000000</td>\n",
              "      <td>0.000000</td>\n",
              "      <td>5.000000</td>\n",
              "      <td>209.000000</td>\n",
              "    </tr>\n",
              "    <tr>\n",
              "      <th>25%</th>\n",
              "      <td>1.563631e+06</td>\n",
              "      <td>425.000000</td>\n",
              "      <td>0.000000</td>\n",
              "      <td>0.000000</td>\n",
              "      <td>9.000000</td>\n",
              "      <td>572.000000</td>\n",
              "    </tr>\n",
              "    <tr>\n",
              "      <th>50%</th>\n",
              "      <td>1.568888e+06</td>\n",
              "      <td>725.000000</td>\n",
              "      <td>4.000000</td>\n",
              "      <td>100.000000</td>\n",
              "      <td>12.000000</td>\n",
              "      <td>711.000000</td>\n",
              "    </tr>\n",
              "    <tr>\n",
              "      <th>75%</th>\n",
              "      <td>1.571593e+06</td>\n",
              "      <td>1500.000000</td>\n",
              "      <td>14.000000</td>\n",
              "      <td>375.000000</td>\n",
              "      <td>14.000000</td>\n",
              "      <td>906.000000</td>\n",
              "    </tr>\n",
              "    <tr>\n",
              "      <th>max</th>\n",
              "      <td>1.573593e+06</td>\n",
              "      <td>10000.000000</td>\n",
              "      <td>196.000000</td>\n",
              "      <td>7450.000000</td>\n",
              "      <td>39.000000</td>\n",
              "      <td>1514.000000</td>\n",
              "    </tr>\n",
              "  </tbody>\n",
              "</table>\n",
              "</div>"
            ],
            "text/plain": [
              "          id_number   loan_amount  lender_count  funded_amount  \\\n",
              "count  9.370000e+02    937.000000    937.000000     937.000000   \n",
              "mean   1.553091e+06   1566.942369     13.839915     449.599787   \n",
              "std    6.970535e+04   1959.649153     24.887396     881.083386   \n",
              "min    1.035139e+06    100.000000      0.000000       0.000000   \n",
              "25%    1.563631e+06    425.000000      0.000000       0.000000   \n",
              "50%    1.568888e+06    725.000000      4.000000     100.000000   \n",
              "75%    1.571593e+06   1500.000000     14.000000     375.000000   \n",
              "max    1.573593e+06  10000.000000    196.000000    7450.000000   \n",
              "\n",
              "       repayment_term  description_length  \n",
              "count      937.000000          937.000000  \n",
              "mean        12.324440          755.668090  \n",
              "std          4.269421          270.137706  \n",
              "min          5.000000          209.000000  \n",
              "25%          9.000000          572.000000  \n",
              "50%         12.000000          711.000000  \n",
              "75%         14.000000          906.000000  \n",
              "max         39.000000         1514.000000  "
            ]
          },
          "metadata": {
            "tags": []
          },
          "execution_count": 20
        }
      ]
    },
    {
      "cell_type": "code",
      "metadata": {
        "id": "K7isW0FEzEGd",
        "colab_type": "code",
        "outputId": "67c22287-3268-4b74-f1d3-8e625f028ecd",
        "colab": {}
      },
      "source": [
        "df[~df['funded_date'].isnull()].describe()"
      ],
      "execution_count": 0,
      "outputs": [
        {
          "output_type": "execute_result",
          "data": {
            "text/html": [
              "<div>\n",
              "<style scoped>\n",
              "    .dataframe tbody tr th:only-of-type {\n",
              "        vertical-align: middle;\n",
              "    }\n",
              "\n",
              "    .dataframe tbody tr th {\n",
              "        vertical-align: top;\n",
              "    }\n",
              "\n",
              "    .dataframe thead th {\n",
              "        text-align: right;\n",
              "    }\n",
              "</style>\n",
              "<table border=\"1\" class=\"dataframe\">\n",
              "  <thead>\n",
              "    <tr style=\"text-align: right;\">\n",
              "      <th></th>\n",
              "      <th>id_number</th>\n",
              "      <th>loan_amount</th>\n",
              "      <th>lender_count</th>\n",
              "      <th>funded_amount</th>\n",
              "      <th>repayment_term</th>\n",
              "      <th>description_length</th>\n",
              "    </tr>\n",
              "  </thead>\n",
              "  <tbody>\n",
              "    <tr>\n",
              "      <th>count</th>\n",
              "      <td>5.082000e+03</td>\n",
              "      <td>5082.000000</td>\n",
              "      <td>5082.000000</td>\n",
              "      <td>5082.000000</td>\n",
              "      <td>5082.000000</td>\n",
              "      <td>4740.000000</td>\n",
              "    </tr>\n",
              "    <tr>\n",
              "      <th>mean</th>\n",
              "      <td>1.324127e+06</td>\n",
              "      <td>1486.486619</td>\n",
              "      <td>39.684770</td>\n",
              "      <td>1486.486619</td>\n",
              "      <td>11.707202</td>\n",
              "      <td>738.523418</td>\n",
              "    </tr>\n",
              "    <tr>\n",
              "      <th>std</th>\n",
              "      <td>3.934281e+05</td>\n",
              "      <td>2601.625321</td>\n",
              "      <td>78.527144</td>\n",
              "      <td>2601.625321</td>\n",
              "      <td>9.746101</td>\n",
              "      <td>269.246968</td>\n",
              "    </tr>\n",
              "    <tr>\n",
              "      <th>min</th>\n",
              "      <td>1.377200e+04</td>\n",
              "      <td>50.000000</td>\n",
              "      <td>1.000000</td>\n",
              "      <td>50.000000</td>\n",
              "      <td>3.000000</td>\n",
              "      <td>74.000000</td>\n",
              "    </tr>\n",
              "    <tr>\n",
              "      <th>25%</th>\n",
              "      <td>1.138890e+06</td>\n",
              "      <td>275.000000</td>\n",
              "      <td>8.000000</td>\n",
              "      <td>275.000000</td>\n",
              "      <td>8.000000</td>\n",
              "      <td>553.000000</td>\n",
              "    </tr>\n",
              "    <tr>\n",
              "      <th>50%</th>\n",
              "      <td>1.541855e+06</td>\n",
              "      <td>600.000000</td>\n",
              "      <td>19.000000</td>\n",
              "      <td>600.000000</td>\n",
              "      <td>10.000000</td>\n",
              "      <td>696.000000</td>\n",
              "    </tr>\n",
              "    <tr>\n",
              "      <th>75%</th>\n",
              "      <td>1.563550e+06</td>\n",
              "      <td>1850.000000</td>\n",
              "      <td>45.000000</td>\n",
              "      <td>1850.000000</td>\n",
              "      <td>14.000000</td>\n",
              "      <td>894.250000</td>\n",
              "    </tr>\n",
              "    <tr>\n",
              "      <th>max</th>\n",
              "      <td>1.573032e+06</td>\n",
              "      <td>80000.000000</td>\n",
              "      <td>2665.000000</td>\n",
              "      <td>80000.000000</td>\n",
              "      <td>133.000000</td>\n",
              "      <td>3107.000000</td>\n",
              "    </tr>\n",
              "  </tbody>\n",
              "</table>\n",
              "</div>"
            ],
            "text/plain": [
              "          id_number   loan_amount  lender_count  funded_amount  \\\n",
              "count  5.082000e+03   5082.000000   5082.000000    5082.000000   \n",
              "mean   1.324127e+06   1486.486619     39.684770    1486.486619   \n",
              "std    3.934281e+05   2601.625321     78.527144    2601.625321   \n",
              "min    1.377200e+04     50.000000      1.000000      50.000000   \n",
              "25%    1.138890e+06    275.000000      8.000000     275.000000   \n",
              "50%    1.541855e+06    600.000000     19.000000     600.000000   \n",
              "75%    1.563550e+06   1850.000000     45.000000    1850.000000   \n",
              "max    1.573032e+06  80000.000000   2665.000000   80000.000000   \n",
              "\n",
              "       repayment_term  description_length  \n",
              "count     5082.000000         4740.000000  \n",
              "mean        11.707202          738.523418  \n",
              "std          9.746101          269.246968  \n",
              "min          3.000000           74.000000  \n",
              "25%          8.000000          553.000000  \n",
              "50%         10.000000          696.000000  \n",
              "75%         14.000000          894.250000  \n",
              "max        133.000000         3107.000000  "
            ]
          },
          "metadata": {
            "tags": []
          },
          "execution_count": 21
        }
      ]
    },
    {
      "cell_type": "markdown",
      "metadata": {
        "id": "hLxhIcuRzEGf",
        "colab_type": "text"
      },
      "source": [
        "Create columns that indicate whether or not data is missing:"
      ]
    },
    {
      "cell_type": "code",
      "metadata": {
        "id": "G0PlzxezzEGg",
        "colab_type": "code",
        "colab": {}
      },
      "source": [
        "for col in numeric_columns:\n",
        "    df[col+'_na'] = pd.isnull(df[col])"
      ],
      "execution_count": 0,
      "outputs": []
    },
    {
      "cell_type": "markdown",
      "metadata": {
        "id": "dN2FvwEXzEGi",
        "colab_type": "text"
      },
      "source": [
        "Impute missing data with the mean:"
      ]
    },
    {
      "cell_type": "code",
      "metadata": {
        "id": "T2m8zDdazEGi",
        "colab_type": "code",
        "colab": {}
      },
      "source": [
        "df[numeric_columns] = df[numeric_columns].fillna(df[numeric_columns].mean())"
      ],
      "execution_count": 0,
      "outputs": []
    },
    {
      "cell_type": "markdown",
      "metadata": {
        "id": "-WpQ0jZSzEGj",
        "colab_type": "text"
      },
      "source": [
        "THE END!\n",
        "-----\n",
        "\n",
        "That is all for our feature engineering module!  \n",
        "\n",
        "Now that we have finished creating all of our features, we can go ahead save our results into a new csv."
      ]
    },
    {
      "cell_type": "code",
      "metadata": {
        "id": "f9qJXwo4zEGj",
        "colab_type": "code",
        "colab": {}
      },
      "source": [
        "df.to_csv(\"/loans_additional_features.csv\", index=False) "
      ],
      "execution_count": 0,
      "outputs": []
    },
    {
      "cell_type": "markdown",
      "metadata": {
        "id": "x0L08TwXzEGl",
        "colab_type": "text"
      },
      "source": [
        "<br>\n",
        "<br> \n",
        "<br>\n",
        "\n",
        "----"
      ]
    }
  ]
}