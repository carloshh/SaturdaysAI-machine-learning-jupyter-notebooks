{
  "nbformat": 4,
  "nbformat_minor": 0,
  "metadata": {
    "kernelspec": {
      "display_name": "Python 3",
      "language": "python",
      "name": "python3"
    },
    "language_info": {
      "codemirror_mode": {
        "name": "ipython",
        "version": 3
      },
      "file_extension": ".py",
      "mimetype": "text/x-python",
      "name": "python",
      "nbconvert_exporter": "python",
      "pygments_lexer": "ipython3",
      "version": "3.6.8"
    },
    "colab": {
      "name": "1_3_loading_and_understanding_data.ipynb",
      "provenance": [],
      "toc_visible": true
    }
  },
  "cells": [
    {
      "cell_type": "markdown",
      "metadata": {
        "id": "Fie-5whVj0MN",
        "colab_type": "text"
      },
      "source": [
        "# Module 1: Introduction to Exploratory Analysis "
      ]
    },
    {
      "cell_type": "markdown",
      "metadata": {
        "id": "82YN078vj0MP",
        "colab_type": "text"
      },
      "source": [
        "<a href=\"https://drive.google.com/file/d/1r4SBY6Dm6xjFqLH12tFb-Bf7wbvoIN_C/view\" target=\"_blank\">\n",
        "     <img src=\"http://www.deltanalytics.org/uploads/2/6/1/4/26140521/screen-shot-2019-01-05-at-4-48-15-pm_orig.png\" width=\"500\" height=\"400\">\n",
        "</a>\n",
        "\n",
        "[(Page 17)](https://drive.google.com/file/d/1r4SBY6Dm6xjFqLH12tFb-Bf7wbvoIN_C/view)"
      ]
    },
    {
      "cell_type": "markdown",
      "metadata": {
        "id": "W4SEFzBxj0MV",
        "colab_type": "text"
      },
      "source": [
        "What we'll be doing in this notebook:\n",
        "-----\n",
        "\n",
        " 1.  Checking variable type\n",
        " 2.  Checking for missing variables \n",
        " 3.  Number of observations in the dataset\n",
        " 4.  Descriptive statistics"
      ]
    },
    {
      "cell_type": "markdown",
      "metadata": {
        "id": "IzEjM-waj0MY",
        "colab_type": "text"
      },
      "source": [
        "### Import packages"
      ]
    },
    {
      "cell_type": "code",
      "metadata": {
        "id": "oo5BtJiyj0Mb",
        "colab_type": "code",
        "colab": {}
      },
      "source": [
        "import pandas as pd\n",
        "import numpy as np\n",
        "import seaborn as sns\n",
        "import matplotlib.pyplot as plt\n",
        "from datetime import datetime\n",
        "import dateutil.parser\n",
        "\n",
        "# The command below means that the output of multiple commands in a cell will be output at once\n",
        "from IPython.core.interactiveshell import InteractiveShell\n",
        "InteractiveShell.ast_node_interactivity = \"all\"\n",
        "\n",
        "# The command below tells jupyter to display up to 80 columns, this keeps everything visible\n",
        "pd.set_option('display.max_columns', 80)\n",
        "pd.set_option('expand_frame_repr', True)\n",
        "\n",
        "# Show figures in notebook\n",
        "%matplotlib inline"
      ],
      "execution_count": 0,
      "outputs": []
    },
    {
      "cell_type": "markdown",
      "metadata": {
        "id": "H1vnulGTj0Ml",
        "colab_type": "text"
      },
      "source": [
        "### Import dataset"
      ]
    },
    {
      "cell_type": "markdown",
      "metadata": {
        "id": "-809WIjhj0Mo",
        "colab_type": "text"
      },
      "source": [
        "We read in our dataset"
      ]
    },
    {
      "cell_type": "code",
      "metadata": {
        "id": "pVWrlUnAj0Mp",
        "colab_type": "code",
        "colab": {}
      },
      "source": [
        "path = ''\n",
        "filename = '/loans.csv'\n",
        "\n",
        "try:\n",
        "    df = pd.read_csv(path+filename)\n",
        "except FileNotFoundError:\n",
        "    # If data is not found, download it from GitHub\n",
        "    import os\n",
        "    os.system(f'git clone --single-branch --depth=1 https://github.com/DeltaAnalytics/machine_learning_for_good_data {path}')\n",
        "    df = pd.read_csv(path+filename)"
      ],
      "execution_count": 0,
      "outputs": []
    },
    {
      "cell_type": "markdown",
      "metadata": {
        "id": "0CCuEfzxj0Mt",
        "colab_type": "text"
      },
      "source": [
        "In the cell below, we take a random sample of 2 rows to get a feel for the data."
      ]
    },
    {
      "cell_type": "code",
      "metadata": {
        "id": "thJ1FqZJj0Mu",
        "colab_type": "code",
        "outputId": "42553076-8426-40b3-dd78-7d0257baa393",
        "colab": {
          "base_uri": "https://localhost:8080/",
          "height": 338
        }
      },
      "source": [
        "df.sample(n=2)"
      ],
      "execution_count": 0,
      "outputs": [
        {
          "output_type": "execute_result",
          "data": {
            "text/html": [
              "<div>\n",
              "<style scoped>\n",
              "    .dataframe tbody tr th:only-of-type {\n",
              "        vertical-align: middle;\n",
              "    }\n",
              "\n",
              "    .dataframe tbody tr th {\n",
              "        vertical-align: top;\n",
              "    }\n",
              "\n",
              "    .dataframe thead th {\n",
              "        text-align: right;\n",
              "    }\n",
              "</style>\n",
              "<table border=\"1\" class=\"dataframe\">\n",
              "  <thead>\n",
              "    <tr style=\"text-align: right;\">\n",
              "      <th></th>\n",
              "      <th>id_number</th>\n",
              "      <th>loan_amount</th>\n",
              "      <th>lender_count</th>\n",
              "      <th>status</th>\n",
              "      <th>funded_date</th>\n",
              "      <th>funded_amount</th>\n",
              "      <th>repayment_term</th>\n",
              "      <th>location_country_code</th>\n",
              "      <th>sector</th>\n",
              "      <th>description</th>\n",
              "      <th>use</th>\n",
              "    </tr>\n",
              "  </thead>\n",
              "  <tbody>\n",
              "    <tr>\n",
              "      <th>1734</th>\n",
              "      <td>21132</td>\n",
              "      <td>1100</td>\n",
              "      <td>44</td>\n",
              "      <td>funded</td>\n",
              "      <td>2007-10-15T06:32:03Z</td>\n",
              "      <td>1100</td>\n",
              "      <td>17</td>\n",
              "      <td>CI</td>\n",
              "      <td>Food</td>\n",
              "      <td>Beatrice is a dynamic and ambitious 32 year ol...</td>\n",
              "      <td>Beatrice will use the loan to purchase cartons...</td>\n",
              "    </tr>\n",
              "    <tr>\n",
              "      <th>1106</th>\n",
              "      <td>1539994</td>\n",
              "      <td>1350</td>\n",
              "      <td>53</td>\n",
              "      <td>funded</td>\n",
              "      <td>2018-05-30T18:15:19Z</td>\n",
              "      <td>1350</td>\n",
              "      <td>6</td>\n",
              "      <td>CD</td>\n",
              "      <td>Food</td>\n",
              "      <td>Mrs. Ndasimwa is a client of IMF Hekima, she s...</td>\n",
              "      <td>to buy 50 kg of small fish to expand her activ...</td>\n",
              "    </tr>\n",
              "  </tbody>\n",
              "</table>\n",
              "</div>"
            ],
            "text/plain": [
              "      id_number  loan_amount  lender_count  status           funded_date  \\\n",
              "1734      21132         1100            44  funded  2007-10-15T06:32:03Z   \n",
              "1106    1539994         1350            53  funded  2018-05-30T18:15:19Z   \n",
              "\n",
              "      funded_amount  repayment_term location_country_code sector  \\\n",
              "1734           1100              17                    CI   Food   \n",
              "1106           1350               6                    CD   Food   \n",
              "\n",
              "                                            description  \\\n",
              "1734  Beatrice is a dynamic and ambitious 32 year ol...   \n",
              "1106  Mrs. Ndasimwa is a client of IMF Hekima, she s...   \n",
              "\n",
              "                                                    use  \n",
              "1734  Beatrice will use the loan to purchase cartons...  \n",
              "1106  to buy 50 kg of small fish to expand her activ...  "
            ]
          },
          "metadata": {
            "tags": []
          },
          "execution_count": 23
        }
      ]
    },
    {
      "cell_type": "code",
      "metadata": {
        "id": "Hf4pGFtFlNBv",
        "colab_type": "code",
        "outputId": "a33aa261-cc9d-463e-a0bc-d0e7c1b6f809",
        "colab": {
          "base_uri": "https://localhost:8080/",
          "height": 221
        }
      },
      "source": [
        "df.dtypes"
      ],
      "execution_count": 0,
      "outputs": [
        {
          "output_type": "execute_result",
          "data": {
            "text/plain": [
              "id_number                 int64\n",
              "loan_amount               int64\n",
              "lender_count              int64\n",
              "status                   object\n",
              "funded_date              object\n",
              "funded_amount             int64\n",
              "repayment_term            int64\n",
              "location_country_code    object\n",
              "sector                   object\n",
              "description              object\n",
              "use                      object\n",
              "dtype: object"
            ]
          },
          "metadata": {
            "tags": []
          },
          "execution_count": 24
        }
      ]
    },
    {
      "cell_type": "markdown",
      "metadata": {
        "id": "ZXmxAeD8j0Mz",
        "colab_type": "text"
      },
      "source": [
        "### 1) Type Checking\n",
        "<a id='type_check'></a>"
      ]
    },
    {
      "cell_type": "markdown",
      "metadata": {
        "id": "MM6ngfBoj0Mz",
        "colab_type": "text"
      },
      "source": [
        "Type is very important in Python programing, because it affects the types of functions you can apply to a series. There are a few different types of data you will see regularly (see [this](https://en.wikibooks.org/wiki/Python_Programming/Data_Types) link for more detail):\n",
        "* **int** - a number with no decimal places. example: loan_amount field\n",
        "* **float** - a number with decimal places. example: partner_id field\n",
        "* **str** - str is short for string. This type formally defined as a sequence of unicode characters. More simply, string means that the data is treated as a word, not a number. example: sector\n",
        "* **boolean** - can only be True or False. There is not currently an example in the data, but we will be creating a gender field shortly.\n",
        "* **datetime** - values meant to hold time data. Example: posted_date\n",
        "\n",
        "Let's check the type of our variables using the examples we saw in the cell above."
      ]
    },
    {
      "cell_type": "code",
      "metadata": {
        "id": "S8xSP8eij0M1",
        "colab_type": "code",
        "outputId": "b52bc3ba-9859-4ec4-bff2-bc5224cdfe93",
        "colab": {
          "base_uri": "https://localhost:8080/",
          "height": 204
        }
      },
      "source": [
        "# Here are all of the columns\n",
        "df.columns.to_list()"
      ],
      "execution_count": 0,
      "outputs": [
        {
          "output_type": "execute_result",
          "data": {
            "text/plain": [
              "['id_number',\n",
              " 'loan_amount',\n",
              " 'lender_count',\n",
              " 'status',\n",
              " 'funded_date',\n",
              " 'funded_amount',\n",
              " 'repayment_term',\n",
              " 'location_country_code',\n",
              " 'sector',\n",
              " 'description',\n",
              " 'use']"
            ]
          },
          "metadata": {
            "tags": []
          },
          "execution_count": 28
        }
      ]
    },
    {
      "cell_type": "code",
      "metadata": {
        "id": "OeSM7bqvj0M4",
        "colab_type": "code",
        "outputId": "d59e43cb-1374-4b3c-ca9f-6608c6133446",
        "colab": {
          "base_uri": "https://localhost:8080/",
          "height": 34
        }
      },
      "source": [
        "# Find the dtype, aka datatype, for a column\n",
        "df['funded_date'].dtype"
      ],
      "execution_count": 0,
      "outputs": [
        {
          "output_type": "execute_result",
          "data": {
            "text/plain": [
              "dtype('O')"
            ]
          },
          "metadata": {
            "tags": []
          },
          "execution_count": 32
        }
      ]
    },
    {
      "cell_type": "code",
      "metadata": {
        "id": "8m-Nwe1Oj0M7",
        "colab_type": "code",
        "colab": {}
      },
      "source": [
        "# Try this - Pick a couple of columns and check their type on your own\n"
      ],
      "execution_count": 0,
      "outputs": []
    },
    {
      "cell_type": "markdown",
      "metadata": {
        "id": "-BwxfAIIj0M9",
        "colab_type": "text"
      },
      "source": [
        "### 2) Do I have missing values?\n",
        "\n",
        "<a id='missing_check'></a>"
      ]
    },
    {
      "cell_type": "markdown",
      "metadata": {
        "id": "dJhfaN-Qj0M9",
        "colab_type": "text"
      },
      "source": [
        "If we have missing data, is the missing data at random or not? If data is missing at random, the data distribution is still representative of the population. You can probably ignore the missing values as an inconvenience. However, if the data is systematically missing, the analysis you do may be biased. You should carefully consider the best way to clean the data, it may involve dropping some data."
      ]
    },
    {
      "cell_type": "markdown",
      "metadata": {
        "id": "pCugqkIyj0M-",
        "colab_type": "text"
      },
      "source": [
        "We want to see how many values are missing in certain variable columns. One way to do this is to count the number of null observations. \n",
        "\n",
        "For this, we wrote a short function to apply to the dataframe. \n",
        "\n",
        "We print out the first few observations, but you can remove the .head() to print out all columns. "
      ]
    },
    {
      "cell_type": "code",
      "metadata": {
        "id": "g4-cFF0Hj0M-",
        "colab_type": "code",
        "outputId": "96b43531-07bd-4b24-c903-a4f9b3501f78",
        "colab": {
          "base_uri": "https://localhost:8080/",
          "height": 119
        }
      },
      "source": [
        "#Create a new function:\n",
        "def num_missing(x):\n",
        "    return sum(x.isnull())\n",
        "\n",
        "#Applying per column:\n",
        "print(\"Missing values per column:\")\n",
        "## Check how many are missing by column, and then check which ones have any missing values\n",
        "print(df.apply(num_missing, axis=0).where(lambda x : x != 0).dropna().head(20)) \n",
        "#axis=0 defines that function is to be applied on each column"
      ],
      "execution_count": 0,
      "outputs": [
        {
          "output_type": "stream",
          "text": [
            "Missing values per column:\n",
            "funded_date              937.0\n",
            "location_country_code     17.0\n",
            "description              342.0\n",
            "use                      342.0\n",
            "dtype: float64\n"
          ],
          "name": "stdout"
        }
      ]
    },
    {
      "cell_type": "markdown",
      "metadata": {
        "id": "UplkUuBkj0NA",
        "colab_type": "text"
      },
      "source": [
        "### 3) Sanity Checks\n",
        "<a id='obs_check'></a>"
      ]
    },
    {
      "cell_type": "markdown",
      "metadata": {
        "id": "oGBfLCYqj0NB",
        "colab_type": "text"
      },
      "source": [
        "**Does the dataset match what you expected to find?**\n",
        "- is the range of values what you would expect. For example, are all loan_amounts above 0.\n",
        "- do you have the number of rows you would expect\n",
        "- is your data for the date range you would expect. For example, is there a strange year in the data like 1880.\n",
        "- are there unexpected spikes when you plot the data over time\n",
        "\n",
        "\n",
        "In the command below we find out the number of loans and number of columns by using the function shape. You can also use len(df.index) to find the number of rows."
      ]
    },
    {
      "cell_type": "code",
      "metadata": {
        "id": "iDvQL6rIj0NB",
        "colab_type": "code",
        "outputId": "0731c413-ca9e-47b6-c1b1-6af2169a0192",
        "colab": {
          "base_uri": "https://localhost:8080/",
          "height": 34
        }
      },
      "source": [
        "print(f'There are {df.shape[0]} observations and {df.shape[1]} features')"
      ],
      "execution_count": 0,
      "outputs": [
        {
          "output_type": "stream",
          "text": [
            "There are 6019 observations and 11 features\n"
          ],
          "name": "stdout"
        }
      ]
    },
    {
      "cell_type": "markdown",
      "metadata": {
        "id": "tlq0Yh5aj0NE",
        "colab_type": "text"
      },
      "source": [
        "Remember, each row is an observation and each column is a potential feature. \n",
        "\n",
        "Remember we need large about of data for machine learning."
      ]
    },
    {
      "cell_type": "markdown",
      "metadata": {
        "id": "g_rscFbBj0NE",
        "colab_type": "text"
      },
      "source": [
        "### 4) Descriptive statistics of the dataset\n",
        "\n",
        "<a id='desc_stats'></a>"
      ]
    },
    {
      "cell_type": "markdown",
      "metadata": {
        "id": "7t7sksKlj0NE",
        "colab_type": "text"
      },
      "source": [
        "The \"describe\" command below provides key summary statistics for each numeric column."
      ]
    },
    {
      "cell_type": "code",
      "metadata": {
        "id": "PBWJ8Uf-j0NF",
        "colab_type": "code",
        "outputId": "bda3ca42-74cf-4967-9ea8-e775e8f4af26",
        "colab": {
          "base_uri": "https://localhost:8080/",
          "height": 297
        }
      },
      "source": [
        "df.describe()"
      ],
      "execution_count": 0,
      "outputs": [
        {
          "output_type": "execute_result",
          "data": {
            "text/html": [
              "<div>\n",
              "<style scoped>\n",
              "    .dataframe tbody tr th:only-of-type {\n",
              "        vertical-align: middle;\n",
              "    }\n",
              "\n",
              "    .dataframe tbody tr th {\n",
              "        vertical-align: top;\n",
              "    }\n",
              "\n",
              "    .dataframe thead th {\n",
              "        text-align: right;\n",
              "    }\n",
              "</style>\n",
              "<table border=\"1\" class=\"dataframe\">\n",
              "  <thead>\n",
              "    <tr style=\"text-align: right;\">\n",
              "      <th></th>\n",
              "      <th>id_number</th>\n",
              "      <th>loan_amount</th>\n",
              "      <th>lender_count</th>\n",
              "      <th>funded_amount</th>\n",
              "      <th>repayment_term</th>\n",
              "    </tr>\n",
              "  </thead>\n",
              "  <tbody>\n",
              "    <tr>\n",
              "      <th>count</th>\n",
              "      <td>6.019000e+03</td>\n",
              "      <td>6019.000000</td>\n",
              "      <td>6019.000000</td>\n",
              "      <td>6019.000000</td>\n",
              "      <td>6019.000000</td>\n",
              "    </tr>\n",
              "    <tr>\n",
              "      <th>mean</th>\n",
              "      <td>1.359770e+06</td>\n",
              "      <td>1499.011464</td>\n",
              "      <td>35.661406</td>\n",
              "      <td>1325.070610</td>\n",
              "      <td>11.803290</td>\n",
              "    </tr>\n",
              "    <tr>\n",
              "      <th>std</th>\n",
              "      <td>3.719316e+05</td>\n",
              "      <td>2512.517280</td>\n",
              "      <td>73.420256</td>\n",
              "      <td>2444.726815</td>\n",
              "      <td>9.114948</td>\n",
              "    </tr>\n",
              "    <tr>\n",
              "      <th>min</th>\n",
              "      <td>1.377200e+04</td>\n",
              "      <td>50.000000</td>\n",
              "      <td>0.000000</td>\n",
              "      <td>0.000000</td>\n",
              "      <td>3.000000</td>\n",
              "    </tr>\n",
              "    <tr>\n",
              "      <th>25%</th>\n",
              "      <td>1.425188e+06</td>\n",
              "      <td>300.000000</td>\n",
              "      <td>7.000000</td>\n",
              "      <td>200.000000</td>\n",
              "      <td>8.000000</td>\n",
              "    </tr>\n",
              "    <tr>\n",
              "      <th>50%</th>\n",
              "      <td>1.550673e+06</td>\n",
              "      <td>625.000000</td>\n",
              "      <td>16.000000</td>\n",
              "      <td>525.000000</td>\n",
              "      <td>10.000000</td>\n",
              "    </tr>\n",
              "    <tr>\n",
              "      <th>75%</th>\n",
              "      <td>1.566204e+06</td>\n",
              "      <td>1825.000000</td>\n",
              "      <td>41.000000</td>\n",
              "      <td>1525.000000</td>\n",
              "      <td>14.000000</td>\n",
              "    </tr>\n",
              "    <tr>\n",
              "      <th>max</th>\n",
              "      <td>1.573593e+06</td>\n",
              "      <td>80000.000000</td>\n",
              "      <td>2665.000000</td>\n",
              "      <td>80000.000000</td>\n",
              "      <td>133.000000</td>\n",
              "    </tr>\n",
              "  </tbody>\n",
              "</table>\n",
              "</div>"
            ],
            "text/plain": [
              "          id_number   loan_amount  lender_count  funded_amount  repayment_term\n",
              "count  6.019000e+03   6019.000000   6019.000000    6019.000000     6019.000000\n",
              "mean   1.359770e+06   1499.011464     35.661406    1325.070610       11.803290\n",
              "std    3.719316e+05   2512.517280     73.420256    2444.726815        9.114948\n",
              "min    1.377200e+04     50.000000      0.000000       0.000000        3.000000\n",
              "25%    1.425188e+06    300.000000      7.000000     200.000000        8.000000\n",
              "50%    1.550673e+06    625.000000     16.000000     525.000000       10.000000\n",
              "75%    1.566204e+06   1825.000000     41.000000    1525.000000       14.000000\n",
              "max    1.573593e+06  80000.000000   2665.000000   80000.000000      133.000000"
            ]
          },
          "metadata": {
            "tags": []
          },
          "execution_count": 41
        }
      ]
    },
    {
      "cell_type": "markdown",
      "metadata": {
        "id": "Oa1aL3gYj0NH",
        "colab_type": "text"
      },
      "source": [
        "In order to get the same summary statistics for categorical columns (string) we need to do a little data wrangling. The first line of code filters for all columns that are a data type object. As we know from before this means they are considered to be a string. The final row of code provides summary statistics for these character fields."
      ]
    },
    {
      "cell_type": "code",
      "metadata": {
        "id": "2bLDPaFJj0NH",
        "colab_type": "code",
        "outputId": "8d94da82-e15e-4aa1-b2d8-b1a70a5fa09d",
        "colab": {
          "base_uri": "https://localhost:8080/",
          "height": 173
        }
      },
      "source": [
        "categorical = df.dtypes[df.dtypes == \"object\"].index\n",
        "df[categorical].describe()"
      ],
      "execution_count": 0,
      "outputs": [
        {
          "output_type": "execute_result",
          "data": {
            "text/html": [
              "<div>\n",
              "<style scoped>\n",
              "    .dataframe tbody tr th:only-of-type {\n",
              "        vertical-align: middle;\n",
              "    }\n",
              "\n",
              "    .dataframe tbody tr th {\n",
              "        vertical-align: top;\n",
              "    }\n",
              "\n",
              "    .dataframe thead th {\n",
              "        text-align: right;\n",
              "    }\n",
              "</style>\n",
              "<table border=\"1\" class=\"dataframe\">\n",
              "  <thead>\n",
              "    <tr style=\"text-align: right;\">\n",
              "      <th></th>\n",
              "      <th>status</th>\n",
              "      <th>funded_date</th>\n",
              "      <th>location_country_code</th>\n",
              "      <th>sector</th>\n",
              "      <th>description</th>\n",
              "      <th>use</th>\n",
              "    </tr>\n",
              "  </thead>\n",
              "  <tbody>\n",
              "    <tr>\n",
              "      <th>count</th>\n",
              "      <td>6019</td>\n",
              "      <td>5082</td>\n",
              "      <td>6002</td>\n",
              "      <td>6019</td>\n",
              "      <td>5677</td>\n",
              "      <td>5677</td>\n",
              "    </tr>\n",
              "    <tr>\n",
              "      <th>unique</th>\n",
              "      <td>3</td>\n",
              "      <td>4453</td>\n",
              "      <td>30</td>\n",
              "      <td>14</td>\n",
              "      <td>5277</td>\n",
              "      <td>4325</td>\n",
              "    </tr>\n",
              "    <tr>\n",
              "      <th>top</th>\n",
              "      <td>funded</td>\n",
              "      <td>2018-07-22T15:54:41Z</td>\n",
              "      <td>CD</td>\n",
              "      <td>Food</td>\n",
              "      <td>Saleh has been a client of the microfinance or...</td>\n",
              "      <td>to pay for a stove.</td>\n",
              "    </tr>\n",
              "    <tr>\n",
              "      <th>freq</th>\n",
              "      <td>5082</td>\n",
              "      <td>9</td>\n",
              "      <td>400</td>\n",
              "      <td>1738</td>\n",
              "      <td>2</td>\n",
              "      <td>80</td>\n",
              "    </tr>\n",
              "  </tbody>\n",
              "</table>\n",
              "</div>"
            ],
            "text/plain": [
              "        status           funded_date location_country_code sector  \\\n",
              "count     6019                  5082                  6002   6019   \n",
              "unique       3                  4453                    30     14   \n",
              "top     funded  2018-07-22T15:54:41Z                    CD   Food   \n",
              "freq      5082                     9                   400   1738   \n",
              "\n",
              "                                              description                  use  \n",
              "count                                                5677                 5677  \n",
              "unique                                               5277                 4325  \n",
              "top     Saleh has been a client of the microfinance or...  to pay for a stove.  \n",
              "freq                                                    2                   80  "
            ]
          },
          "metadata": {
            "tags": []
          },
          "execution_count": 43
        }
      ]
    },
    {
      "cell_type": "markdown",
      "metadata": {
        "id": "wRPlokj1j0NJ",
        "colab_type": "text"
      },
      "source": [
        "In the table above, there are 4 really useful fields: \n",
        "\n",
        "1) **count** - total number of fields populated (Not empty). \n",
        "\n",
        "2) **unique** - tells us how many different unique ways this field is populated. For example 4 in description.languages tells us there are 4 different language descriptions. \n",
        "\n",
        "3) **top** - tells us the most popular data point. For example, the top activity in this dataset is Farming which tells us most loans are in Farming.\n",
        "\n",
        "4) **freq** - tells us that how frequent the most popular category is in our dataset. For example, 'en' (English) is the language almost all descriptions (description.languages) are written in (118,306 out of 118,316)."
      ]
    },
    {
      "cell_type": "markdown",
      "metadata": {
        "id": "6-xoq3Nbj0NJ",
        "colab_type": "text"
      },
      "source": [
        "What is next\n",
        "-----\n",
        "\n",
        "In the next section, we move on to exploratory data analysis (EDA)."
      ]
    },
    {
      "cell_type": "markdown",
      "metadata": {
        "id": "L7tuH5VQj0NJ",
        "colab_type": "text"
      },
      "source": [
        "<br>\n",
        "<br> \n",
        "<br>\n",
        "\n",
        "----"
      ]
    }
  ]
}