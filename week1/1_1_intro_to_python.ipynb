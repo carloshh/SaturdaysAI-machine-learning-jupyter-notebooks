{
  "nbformat": 4,
  "nbformat_minor": 0,
  "metadata": {
    "kernelspec": {
      "display_name": "Python 3",
      "language": "python",
      "name": "python3"
    },
    "language_info": {
      "codemirror_mode": {
        "name": "ipython",
        "version": 3
      },
      "file_extension": ".py",
      "mimetype": "text/x-python",
      "name": "python",
      "nbconvert_exporter": "python",
      "pygments_lexer": "ipython3",
      "version": "3.6.8"
    },
    "colab": {
      "name": "1_1 intro_to_python.ipynb",
      "provenance": []
    }
  },
  "cells": [
    {
      "cell_type": "markdown",
      "metadata": {
        "id": "_5jJ5ufrZD3w",
        "colab_type": "text"
      },
      "source": [
        "Intro To Python\n",
        "=====\n",
        "\n",
        "In this notebook, we will explore basic Python:\n",
        "\n",
        "- data types, including dictionaries\n",
        "- functions \n",
        "- loops"
      ]
    },
    {
      "cell_type": "markdown",
      "metadata": {
        "id": "H2sqvOxPZD3z",
        "colab_type": "text"
      },
      "source": [
        "Please note that we are using Python 3.    \n",
        "(__NOT__ Python 2! Python 2 has some different functions and syntax)"
      ]
    },
    {
      "cell_type": "code",
      "metadata": {
        "id": "7V96oTwRZD32",
        "colab_type": "code",
        "outputId": "23b1d441-02a7-43af-e230-f995f63a93b4",
        "colab": {
          "base_uri": "https://localhost:8080/",
          "height": 170
        }
      },
      "source": [
        "# Let's make sure we are using Python 3\n",
        "import sys\n",
        "print(sys.version[3])\n",
        "\n",
        "import pandas as pd\n",
        "\n",
        " # list of strings\n",
        "lst = ['Geeks', 'For', 'Geeks', 'is', \n",
        "            'portal', 'for', 'Geeks']\n",
        " \n",
        "# Calling DataFrame constructor on list\n",
        "df = pd.DataFrame(lst)\n",
        "print(df)\n"
      ],
      "execution_count": 0,
      "outputs": [
        {
          "output_type": "stream",
          "text": [
            ".\n",
            "        0\n",
            "0   Geeks\n",
            "1     For\n",
            "2   Geeks\n",
            "3      is\n",
            "4  portal\n",
            "5     for\n",
            "6   Geeks\n"
          ],
          "name": "stdout"
        }
      ]
    },
    {
      "cell_type": "markdown",
      "metadata": {
        "id": "nij7FndIZD39",
        "colab_type": "text"
      },
      "source": [
        ".# 1. Basic Data Types: Numbers, Booleans, and Strings\n",
        "## 1.1 Numbers"
      ]
    },
    {
      "cell_type": "code",
      "metadata": {
        "id": "6wfDhAfcZD3-",
        "colab_type": "code",
        "outputId": "58715605-d242-4c1f-e082-6e8b2bb5bf2c",
        "colab": {
          "base_uri": "https://localhost:8080/",
          "height": 51
        }
      },
      "source": [
        "a = 5\n",
        "# Note: use the `type()` function to get the type of a variable\n",
        "# Numbers can be integers ('int'), such as 3, 5 and 3049, or floats\n",
        "# ('float'), such as 2.5, 3.1, and 2.34938493\n",
        "print(type(a))\n",
        "print(a)"
      ],
      "execution_count": 0,
      "outputs": [
        {
          "output_type": "stream",
          "text": [
            "<class 'int'>\n",
            "5\n"
          ],
          "name": "stdout"
        }
      ]
    },
    {
      "cell_type": "markdown",
      "metadata": {
        "id": "v3NWDkjQZD4K",
        "colab_type": "text"
      },
      "source": [
        "### Mathematical Operators: +, -, *, /, **\n",
        "Mathematical operators allow you to perform math operations on numbers in Python."
      ]
    },
    {
      "cell_type": "code",
      "metadata": {
        "id": "iOnFYdiRZD4L",
        "colab_type": "code",
        "outputId": "5ec78d20-96cc-4fc9-9785-b45b20408d4e",
        "colab": {
          "base_uri": "https://localhost:8080/",
          "height": 102
        }
      },
      "source": [
        "b = a + 1\n",
        "print(b)\n",
        "c = a - 1\n",
        "print(c)\n",
        "d = a * 2\n",
        "print(d)\n",
        "e = a / 2\n",
        "print(e)\n",
        "# Note: ** is the exponention operator\n",
        "f = a ** 2\n",
        "print(f)"
      ],
      "execution_count": 0,
      "outputs": [
        {
          "output_type": "stream",
          "text": [
            "6\n",
            "4\n",
            "10\n",
            "2.5\n",
            "25\n"
          ],
          "name": "stdout"
        }
      ]
    },
    {
      "cell_type": "markdown",
      "metadata": {
        "id": "uUqkO1rpZD4Q",
        "colab_type": "text"
      },
      "source": [
        "### Shorthand mathematical operators\n",
        "`a += 1` is shorthand for `a = a + 1`"
      ]
    },
    {
      "cell_type": "code",
      "metadata": {
        "id": "JslCXd2-ZD4R",
        "colab_type": "code",
        "outputId": "69477791-09c8-4abe-fd98-ce2b3630b13e",
        "colab": {
          "base_uri": "https://localhost:8080/",
          "height": 51
        }
      },
      "source": [
        "a += 1\n",
        "print(a)\n",
        "a *= 2\n",
        "print(a)"
      ],
      "execution_count": 0,
      "outputs": [
        {
          "output_type": "stream",
          "text": [
            "6\n",
            "12\n"
          ],
          "name": "stdout"
        }
      ]
    },
    {
      "cell_type": "markdown",
      "metadata": {
        "id": "nFob1hwAZD4e",
        "colab_type": "text"
      },
      "source": [
        "## 1.2 Booleans & Logic Operators"
      ]
    },
    {
      "cell_type": "code",
      "metadata": {
        "id": "BWXo846fZD4g",
        "colab_type": "code",
        "outputId": "0a550e85-6889-4761-c4f6-1f094a7bf881",
        "colab": {
          "base_uri": "https://localhost:8080/",
          "height": 34
        }
      },
      "source": [
        "im_true = True\n",
        "im_false = False\n",
        "\n",
        "print(type(im_true))"
      ],
      "execution_count": 0,
      "outputs": [
        {
          "output_type": "stream",
          "text": [
            "<class 'bool'>\n"
          ],
          "name": "stdout"
        }
      ]
    },
    {
      "cell_type": "markdown",
      "metadata": {
        "id": "EHyN-l3mZD4l",
        "colab_type": "text"
      },
      "source": [
        "### Equality operators\n",
        "Equality operators (== and !=) allow you to compare the values of variables on the left and right hand side."
      ]
    },
    {
      "cell_type": "code",
      "metadata": {
        "id": "ZjhhgVBUZD4m",
        "colab_type": "code",
        "outputId": "9e88b6d9-cf9a-4f1d-be8a-57598f9198e4",
        "colab": {
          "base_uri": "https://localhost:8080/",
          "height": 51
        }
      },
      "source": [
        "print(im_true == im_false) # Equality operator\n",
        "print(im_true != im_false)"
      ],
      "execution_count": 0,
      "outputs": [
        {
          "output_type": "stream",
          "text": [
            "False\n",
            "True\n"
          ],
          "name": "stdout"
        }
      ]
    },
    {
      "cell_type": "markdown",
      "metadata": {
        "id": "dzjFF8BAZD4q",
        "colab_type": "text"
      },
      "source": [
        "The `and` operator requires that the variables on each side of the operator are equal to true."
      ]
    },
    {
      "cell_type": "code",
      "metadata": {
        "id": "ZHh1gH-SZD4r",
        "colab_type": "code",
        "outputId": "4eacbaff-b651-4478-eaa4-62c940c4a8c5",
        "colab": {
          "base_uri": "https://localhost:8080/",
          "height": 34
        }
      },
      "source": [
        "print(im_true and im_false)"
      ],
      "execution_count": 0,
      "outputs": [
        {
          "output_type": "stream",
          "text": [
            "False\n"
          ],
          "name": "stdout"
        }
      ]
    },
    {
      "cell_type": "markdown",
      "metadata": {
        "id": "A-tjee3DZD4v",
        "colab_type": "text"
      },
      "source": [
        "The `or` operator only requires the ONE of the variables on each side of the operator to be true."
      ]
    },
    {
      "cell_type": "code",
      "metadata": {
        "id": "1CvA0GamZD4w",
        "colab_type": "code",
        "outputId": "6af3cbc7-2395-41e8-d288-31b00bf3d15e",
        "colab": {
          "base_uri": "https://localhost:8080/",
          "height": 34
        }
      },
      "source": [
        "print(im_true or im_false)"
      ],
      "execution_count": 0,
      "outputs": [
        {
          "output_type": "stream",
          "text": [
            "True\n"
          ],
          "name": "stdout"
        }
      ]
    },
    {
      "cell_type": "markdown",
      "metadata": {
        "id": "ypm0h6iYZD40",
        "colab_type": "text"
      },
      "source": [
        "## 1.3 Strings\n",
        "You can use single or double quotes for strings."
      ]
    },
    {
      "cell_type": "code",
      "metadata": {
        "id": "XsTYgoIVZD42",
        "colab_type": "code",
        "outputId": "864b3c7d-04e1-411b-de9a-f41771d10c8a",
        "colab": {
          "base_uri": "https://localhost:8080/",
          "height": 34
        }
      },
      "source": [
        "my_string = 'delta'\n",
        "my_other_string = \"analytics\"\n",
        "my_other_string_test = \"rocks\"\n",
        "print(my_string, my_other_string, my_other_string_test)"
      ],
      "execution_count": 0,
      "outputs": [
        {
          "output_type": "stream",
          "text": [
            "delta analytics rocks\n"
          ],
          "name": "stdout"
        }
      ]
    },
    {
      "cell_type": "markdown",
      "metadata": {
        "id": "En9WGlV_ZD46",
        "colab_type": "text"
      },
      "source": [
        "### String methods\n",
        "Concatenating strings:"
      ]
    },
    {
      "cell_type": "code",
      "metadata": {
        "id": "PUXieqzgZD46",
        "colab_type": "code",
        "outputId": "6bd34fce-3bf6-46ce-ba21-76a4059b7a78",
        "colab": {
          "base_uri": "https://localhost:8080/",
          "height": 34
        }
      },
      "source": [
        "another_string = 'hello, ' + my_string + \" \" + my_other_string\n",
        "print(another_string) "
      ],
      "execution_count": 0,
      "outputs": [
        {
          "output_type": "stream",
          "text": [
            "hello, delta analytics\n"
          ],
          "name": "stdout"
        }
      ]
    },
    {
      "cell_type": "markdown",
      "metadata": {
        "id": "ejwMGxAQZD48",
        "colab_type": "text"
      },
      "source": [
        "Get the length of the string:"
      ]
    },
    {
      "cell_type": "code",
      "metadata": {
        "id": "XC8oc5ZtZD49",
        "colab_type": "code",
        "outputId": "aa2c2a4f-d462-4ddc-def5-3b50db4ee572",
        "colab": {
          "base_uri": "https://localhost:8080/",
          "height": 34
        }
      },
      "source": [
        "print(len(another_string))"
      ],
      "execution_count": 0,
      "outputs": [
        {
          "output_type": "stream",
          "text": [
            "22\n"
          ],
          "name": "stdout"
        }
      ]
    },
    {
      "cell_type": "markdown",
      "metadata": {
        "id": "KmOEigLVZD4_",
        "colab_type": "text"
      },
      "source": [
        "# 2. Container Data Types\n",
        "## 2.1 Lists\n",
        "A Python `list` stores multiple elements, which can be different types"
      ]
    },
    {
      "cell_type": "code",
      "metadata": {
        "id": "UA-zHnOPZD4_",
        "colab_type": "code",
        "outputId": "19caaeb0-3931-4f77-93a0-a45552a547c5",
        "colab": {
          "base_uri": "https://localhost:8080/",
          "height": 34
        }
      },
      "source": [
        "my_list = ['a', 'b', 'c', 3485]\n",
        "print(my_list)"
      ],
      "execution_count": 0,
      "outputs": [
        {
          "output_type": "stream",
          "text": [
            "['a', 'b', 'c', 3485]\n"
          ],
          "name": "stdout"
        }
      ]
    },
    {
      "cell_type": "markdown",
      "metadata": {
        "id": "qczYcYPMZD5D",
        "colab_type": "text"
      },
      "source": [
        "You can access an element in a list with the following syntax:\n",
        "Note: the first element in a list has an index of zero."
      ]
    },
    {
      "cell_type": "code",
      "metadata": {
        "id": "M90AKNMjZD5D",
        "colab_type": "code",
        "outputId": "d5dcfd92-11e3-415e-e92a-868bf705181a",
        "colab": {
          "base_uri": "https://localhost:8080/",
          "height": 51
        }
      },
      "source": [
        "print(my_list[2])\n",
        "print(my_list[0])"
      ],
      "execution_count": 0,
      "outputs": [
        {
          "output_type": "stream",
          "text": [
            "c\n",
            "a\n"
          ],
          "name": "stdout"
        }
      ]
    },
    {
      "cell_type": "markdown",
      "metadata": {
        "id": "9CioF7miZD5G",
        "colab_type": "text"
      },
      "source": [
        "Reassigning elements in a list:"
      ]
    },
    {
      "cell_type": "code",
      "metadata": {
        "id": "SyIIb7ejZD5H",
        "colab_type": "code",
        "outputId": "688f9b69-92ea-4a3b-f53b-c990746fb802",
        "colab": {
          "base_uri": "https://localhost:8080/",
          "height": 34
        }
      },
      "source": [
        "my_list[0] = 'delta'\n",
        "print(my_list)"
      ],
      "execution_count": 0,
      "outputs": [
        {
          "output_type": "stream",
          "text": [
            "['delta', 'b', 'c', 3485]\n"
          ],
          "name": "stdout"
        }
      ]
    },
    {
      "cell_type": "markdown",
      "metadata": {
        "id": "f_8inYiiZD5J",
        "colab_type": "text"
      },
      "source": [
        "Adding/removing elements from a list:"
      ]
    },
    {
      "cell_type": "code",
      "metadata": {
        "id": "HFvY6Vg3ZD5K",
        "colab_type": "code",
        "outputId": "36e780ca-8f44-4eb5-ceb6-56bb77e6f7c3",
        "colab": {
          "base_uri": "https://localhost:8080/",
          "height": 51
        }
      },
      "source": [
        "my_list.append('hello')\n",
        "print(my_list)\n",
        "\n",
        "my_list.pop()\n",
        "print(my_list)"
      ],
      "execution_count": 0,
      "outputs": [
        {
          "output_type": "stream",
          "text": [
            "['delta', 'b', 'c', 3485, 'hello']\n",
            "['delta', 'b', 'c', 3485]\n"
          ],
          "name": "stdout"
        }
      ]
    },
    {
      "cell_type": "markdown",
      "metadata": {
        "id": "GqoaVcWxZD5N",
        "colab_type": "text"
      },
      "source": [
        "Accessing multiple elements in a list:"
      ]
    },
    {
      "cell_type": "code",
      "metadata": {
        "id": "55yjRKduZD5O",
        "colab_type": "code",
        "outputId": "4fc03761-8f4e-4640-b083-add5c673e77a",
        "colab": {
          "base_uri": "https://localhost:8080/",
          "height": 136
        }
      },
      "source": [
        "print(my_list[0:2]) # Access elements in index 0, 1 and 2\n",
        "print(my_list[2:]) # Access elements from index 2 to the end\n",
        "print(my_list[:2]) # Access elements from the beginning to index 2\n",
        "\n",
        "for x in my_list:\n",
        "  print(x)\n"
      ],
      "execution_count": 0,
      "outputs": [
        {
          "output_type": "stream",
          "text": [
            "['a', 'b']\n",
            "['c', 3485]\n",
            "['a', 'b']\n",
            "a\n",
            "b\n",
            "c\n",
            "3485\n"
          ],
          "name": "stdout"
        }
      ]
    },
    {
      "cell_type": "markdown",
      "metadata": {
        "id": "kAtw9-3FZD5R",
        "colab_type": "text"
      },
      "source": [
        "## 2.2 Dictionaries\n",
        "Dictionaries hold key/value pairs and are useful for storing information."
      ]
    },
    {
      "cell_type": "code",
      "metadata": {
        "id": "gaBxcafQZD5S",
        "colab_type": "code",
        "outputId": "1acba323-0207-44aa-c5fe-4625aadd5cc5",
        "colab": {
          "base_uri": "https://localhost:8080/",
          "height": 34
        }
      },
      "source": [
        "my_dict = { 'key_one': 'value_one', 'name': 'mike' }\n",
        "\n",
        "\n",
        "a = [ 1 ,2, 3, 1, 1]\n",
        "a"
      ],
      "execution_count": 0,
      "outputs": [
        {
          "output_type": "execute_result",
          "data": {
            "text/plain": [
              "[1, 2, 3, 1, 1]"
            ]
          },
          "metadata": {
            "tags": []
          },
          "execution_count": 78
        }
      ]
    },
    {
      "cell_type": "markdown",
      "metadata": {
        "id": "akQ_xEkaZD5U",
        "colab_type": "text"
      },
      "source": [
        "Access a value from a dictionary by a key:"
      ]
    },
    {
      "cell_type": "code",
      "metadata": {
        "id": "rBqBMB7LZD5V",
        "colab_type": "code",
        "outputId": "a3b2bcb7-ff5c-40bf-ee1d-9bdbd6668b33",
        "colab": {
          "base_uri": "https://localhost:8080/",
          "height": 51
        }
      },
      "source": [
        "print(my_dict['key_one'])\n",
        "print(my_dict['name'])"
      ],
      "execution_count": 0,
      "outputs": [
        {
          "output_type": "stream",
          "text": [
            "value_one\n",
            "mike\n"
          ],
          "name": "stdout"
        }
      ]
    },
    {
      "cell_type": "markdown",
      "metadata": {
        "id": "gpraWAjeZD5W",
        "colab_type": "text"
      },
      "source": [
        "Looping over values of a dictionary:"
      ]
    },
    {
      "cell_type": "code",
      "metadata": {
        "id": "I_kF9mFgZD5X",
        "colab_type": "code",
        "outputId": "6dd75365-101f-426d-e188-b1a40b62aad2",
        "colab": {
          "base_uri": "https://localhost:8080/",
          "height": 181
        }
      },
      "source": [
        "for key in my_dict:\n",
        "    print(\"The key is \" + key)"
      ],
      "execution_count": 0,
      "outputs": [
        {
          "output_type": "error",
          "ename": "NameError",
          "evalue": "ignored",
          "traceback": [
            "\u001b[0;31m---------------------------------------------------------------------------\u001b[0m",
            "\u001b[0;31mNameError\u001b[0m                                 Traceback (most recent call last)",
            "\u001b[0;32m<ipython-input-25-05fc66b6eb29>\u001b[0m in \u001b[0;36m<module>\u001b[0;34m()\u001b[0m\n\u001b[0;32m----> 1\u001b[0;31m \u001b[0;32mfor\u001b[0m \u001b[0mkey\u001b[0m \u001b[0;32min\u001b[0m \u001b[0mmy_dict\u001b[0m\u001b[0;34m:\u001b[0m\u001b[0;34m\u001b[0m\u001b[0;34m\u001b[0m\u001b[0m\n\u001b[0m\u001b[1;32m      2\u001b[0m     \u001b[0mprint\u001b[0m\u001b[0;34m(\u001b[0m\u001b[0;34m\"The key is \"\u001b[0m \u001b[0;34m+\u001b[0m \u001b[0mkey\u001b[0m\u001b[0;34m)\u001b[0m\u001b[0;34m\u001b[0m\u001b[0;34m\u001b[0m\u001b[0m\n",
            "\u001b[0;31mNameError\u001b[0m: name 'my_dict' is not defined"
          ]
        }
      ]
    },
    {
      "cell_type": "code",
      "metadata": {
        "id": "Ex_6evujZD5Y",
        "colab_type": "code",
        "outputId": "5f158710-56af-41c7-ae7d-6ecde5c661ad",
        "colab": {
          "base_uri": "https://localhost:8080/",
          "height": 51
        }
      },
      "source": [
        "for key, value in my_dict.items():\n",
        "    print(\"The key is \" + key + \", and the value is \" + value)"
      ],
      "execution_count": 0,
      "outputs": [
        {
          "output_type": "stream",
          "text": [
            "The key is key_one, and the value is value_one\n",
            "The key is name, and the value is mike\n"
          ],
          "name": "stdout"
        }
      ]
    },
    {
      "cell_type": "markdown",
      "metadata": {
        "id": "g8BakrTeZD5Z",
        "colab_type": "text"
      },
      "source": [
        "## 2.3 Sets\n",
        "Sets are similar to lists, but can only contain distinct values."
      ]
    },
    {
      "cell_type": "code",
      "metadata": {
        "id": "jEZmfidhZD5a",
        "colab_type": "code",
        "outputId": "401f7ede-6bed-4169-c213-6c6061230ac7",
        "colab": {
          "base_uri": "https://localhost:8080/",
          "height": 34
        }
      },
      "source": [
        "my_set = {1, 2, 3, 'hello'}\n",
        "print(my_set)"
      ],
      "execution_count": 0,
      "outputs": [
        {
          "output_type": "stream",
          "text": [
            "{1, 2, 3, 'hello'}\n"
          ],
          "name": "stdout"
        }
      ]
    },
    {
      "cell_type": "markdown",
      "metadata": {
        "id": "a1f8Q2JzZD5b",
        "colab_type": "text"
      },
      "source": [
        "When defining a set with the same value present multiple times, only one element will be added to the set. For example:"
      ]
    },
    {
      "cell_type": "code",
      "metadata": {
        "id": "iDhbn3NEZD5b",
        "colab_type": "code",
        "outputId": "6c5f41e3-d7c5-4991-d7f4-a31684d64c3b",
        "colab": {}
      },
      "source": [
        "multiple = {1, 2, 2, 2, 2, 2, 3, 'hello'}\n",
        "print(multiple) # This will return {1, 2, 3, 'hello'}"
      ],
      "execution_count": 0,
      "outputs": [
        {
          "output_type": "stream",
          "text": [
            "{'hello', 1, 2, 3}\n"
          ],
          "name": "stdout"
        }
      ]
    },
    {
      "cell_type": "markdown",
      "metadata": {
        "id": "RBfC05FJZD5d",
        "colab_type": "text"
      },
      "source": [
        "# 3. Functions\n",
        "A function is a block of reusable code that performs a certain action. Once you've defined a function, you can use it anywhere in your code!"
      ]
    },
    {
      "cell_type": "markdown",
      "metadata": {
        "id": "hVWb3rkFZD5d",
        "colab_type": "text"
      },
      "source": [
        "Defining a function:"
      ]
    },
    {
      "cell_type": "code",
      "metadata": {
        "id": "ghEcdAbgZD5e",
        "colab_type": "code",
        "colab": {}
      },
      "source": [
        "def am_i_happy(happiness_level):\n",
        "    if happiness_level >= 10:\n",
        "        return \"You're very happy.\"\n",
        "    elif happiness_level >= 5:\n",
        "        return \"You're happy.\"\n",
        "    else:\n",
        "        return \"You're not happy.\""
      ],
      "execution_count": 0,
      "outputs": []
    },
    {
      "cell_type": "markdown",
      "metadata": {
        "id": "jrGCz8Z0ZD5f",
        "colab_type": "text"
      },
      "source": [
        "Calling a function:"
      ]
    },
    {
      "cell_type": "code",
      "metadata": {
        "id": "ae1zl8jwZD5f",
        "colab_type": "code",
        "outputId": "af43588e-300a-49a2-aa5d-5025aa98be9c",
        "colab": {}
      },
      "source": [
        "print(am_i_happy(0))"
      ],
      "execution_count": 0,
      "outputs": [
        {
          "output_type": "stream",
          "text": [
            "You're not happy.\n"
          ],
          "name": "stdout"
        }
      ]
    },
    {
      "cell_type": "code",
      "metadata": {
        "id": "VlYShNjzZD5g",
        "colab_type": "code",
        "outputId": "c50fd41e-87c7-4eb8-f10e-5f35516a4eb4",
        "colab": {}
      },
      "source": [
        "print(am_i_happy(5))"
      ],
      "execution_count": 0,
      "outputs": [
        {
          "output_type": "stream",
          "text": [
            "You're happy.\n"
          ],
          "name": "stdout"
        }
      ]
    },
    {
      "cell_type": "markdown",
      "metadata": {
        "id": "gmsvMhMsZD5h",
        "colab_type": "text"
      },
      "source": [
        "# 4. Control Flow\n",
        "## 4.1 If/Else If/Else"
      ]
    },
    {
      "cell_type": "code",
      "metadata": {
        "id": "rsnx7lt7ZD5i",
        "colab_type": "code",
        "outputId": "9550ef9a-1a0c-4520-f0dd-fc8d84b5bb13",
        "colab": {}
      },
      "source": [
        "sleepy = True\n",
        "hungry = False\n",
        "\n",
        "if sleepy and hungry:\n",
        "    print(\"Eat a snack and take a nap.\")\n",
        "elif sleepy and not hungry:\n",
        "    print(\"Take a nap\")\n",
        "elif hungry and not sleepy:\n",
        "    print(\"Eat a snack\")\n",
        "else:\n",
        "    print(\"Go on with your day\")"
      ],
      "execution_count": 0,
      "outputs": [
        {
          "output_type": "stream",
          "text": [
            "Take a nap\n"
          ],
          "name": "stdout"
        }
      ]
    },
    {
      "cell_type": "markdown",
      "metadata": {
        "id": "UnUikJwOZD5j",
        "colab_type": "text"
      },
      "source": [
        "## 4.2 Loops\n",
        "### 4.2.1 'while' loops"
      ]
    },
    {
      "cell_type": "code",
      "metadata": {
        "id": "CFkd5UFaZD5j",
        "colab_type": "code",
        "outputId": "c4033fae-c8f2-49be-e18e-58f9d79198c4",
        "colab": {}
      },
      "source": [
        "counter = 0\n",
        "while (counter < 10):\n",
        "    print(\"You have counted to\", counter)\n",
        "    counter = counter + 1 # Increment the counter\n",
        "    \n",
        "print(\"You're finished counting\")"
      ],
      "execution_count": 0,
      "outputs": [
        {
          "output_type": "stream",
          "text": [
            "You have counted to 0\n",
            "You have counted to 1\n",
            "You have counted to 2\n",
            "You have counted to 3\n",
            "You have counted to 4\n",
            "You have counted to 5\n",
            "You have counted to 6\n",
            "You have counted to 7\n",
            "You have counted to 8\n",
            "You have counted to 9\n",
            "You're finished counting\n"
          ],
          "name": "stdout"
        }
      ]
    },
    {
      "cell_type": "markdown",
      "metadata": {
        "id": "QEvfiAu0ZD5k",
        "colab_type": "text"
      },
      "source": [
        "### 4.2.2 'for' loops\n",
        "Loop over a list:"
      ]
    },
    {
      "cell_type": "code",
      "metadata": {
        "id": "exhbX6yLZD5l",
        "colab_type": "code",
        "outputId": "74782b02-9c8d-4bac-f09a-e9eb492c483c",
        "colab": {}
      },
      "source": [
        "cool_animals = ['cat', 'dog', 'lion', 'bear']\n",
        "\n",
        "for animal in cool_animals:\n",
        "    print(animal + \"s are cool\")"
      ],
      "execution_count": 0,
      "outputs": [
        {
          "output_type": "stream",
          "text": [
            "cats are cool\n",
            "dogs are cool\n",
            "lions are cool\n",
            "bears are cool\n"
          ],
          "name": "stdout"
        }
      ]
    },
    {
      "cell_type": "markdown",
      "metadata": {
        "id": "egaGZgm4ZD5m",
        "colab_type": "text"
      },
      "source": [
        "Loop over a dict:"
      ]
    },
    {
      "cell_type": "code",
      "metadata": {
        "id": "IASPjA4RZD5m",
        "colab_type": "code",
        "outputId": "67fadad8-4cfa-4085-a680-17d7f88f8f78",
        "colab": {}
      },
      "source": [
        "animal_sounds = {\n",
        "    'dog': 'bark',\n",
        "    'cat': 'meow',\n",
        "    'pig': 'oink'\n",
        "}\n",
        "\n",
        "for animal, sound in animal_sounds.items():\n",
        "    print(\"The \" + animal + \" says \" + sound + \"!\")"
      ],
      "execution_count": 0,
      "outputs": [
        {
          "output_type": "stream",
          "text": [
            "The dog says bark!\n",
            "The cat says meow!\n",
            "The pig says oink!\n"
          ],
          "name": "stdout"
        }
      ]
    },
    {
      "cell_type": "markdown",
      "metadata": {
        "id": "f83FIV__ZD5n",
        "colab_type": "text"
      },
      "source": [
        "<br>\n",
        "<br> \n",
        "<br>\n",
        "\n",
        "----"
      ]
    }
  ]
}