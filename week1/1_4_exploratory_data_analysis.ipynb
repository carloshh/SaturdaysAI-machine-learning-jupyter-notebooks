{
  "nbformat": 4,
  "nbformat_minor": 0,
  "metadata": {
    "kernelspec": {
      "display_name": "Python 3",
      "language": "python",
      "name": "python3"
    },
    "language_info": {
      "codemirror_mode": {
        "name": "ipython",
        "version": 3
      },
      "file_extension": ".py",
      "mimetype": "text/x-python",
      "name": "python",
      "nbconvert_exporter": "python",
      "pygments_lexer": "ipython3",
      "version": "3.6.8"
    },
    "colab": {
      "name": "1_4_exploratory_data_analysis.ipynb",
      "provenance": [],
      "collapsed_sections": [],
      "toc_visible": true
    }
  },
  "cells": [
    {
      "cell_type": "markdown",
      "metadata": {
        "id": "dm0rSXHwoUhW",
        "colab_type": "text"
      },
      "source": [
        "# Module 1: Introduction to Exploratory Data Analysis "
      ]
    },
    {
      "cell_type": "markdown",
      "metadata": {
        "id": "OLkdH7JwoUhY",
        "colab_type": "text"
      },
      "source": [
        "<a href=\"https://drive.google.com/file/d/1r4SBY6Dm6xjFqLH12tFb-Bf7wbvoIN_C/view\" target=\"_blank\">\n",
        "     <img src=\"http://www.deltanalytics.org/uploads/2/6/1/4/26140521/screen-shot-2019-01-05-at-4-48-15-pm_orig.png\" width=\"500\" height=\"400\">\n",
        "</a>\n",
        "\n",
        "[(Page 40)](https://drive.google.com/file/d/1r4SBY6Dm6xjFqLH12tFb-Bf7wbvoIN_C/view)"
      ]
    },
    {
      "cell_type": "markdown",
      "metadata": {
        "id": "qM23uxKeoUhb",
        "colab_type": "text"
      },
      "source": [
        "In this notebook we dive into some plotting methods commonly used for Exploratory Data Analysis (EDA). \n",
        "\n",
        "Our goals for EDA are to open-mindedly explore the data, and see what insights we may find. \n",
        "\n",
        "The purpose of the EDA approach is to:\n",
        "- maximize insight into a data set\n",
        "- uncover underlying structure\n",
        "- extract important variables\n",
        "- detect outliers and anomalies\n",
        "- test underlying assumptions\n",
        "- develop parsimonious models\n",
        "- determine optimal factor settings"
      ]
    },
    {
      "cell_type": "markdown",
      "metadata": {
        "id": "tUiGAaSDoUhe",
        "colab_type": "text"
      },
      "source": [
        "In this notebook we'll investigate these plotting techniques:\n",
        "\n",
        "1. Scatter Plot\n",
        "1. Scatter Matrix\n",
        "1. Histogram\n",
        "1. Bar Plot\n",
        "1. Box Plot\n",
        "1. Time Series"
      ]
    },
    {
      "cell_type": "markdown",
      "metadata": {
        "id": "nMubnUcpoUhi",
        "colab_type": "text"
      },
      "source": [
        "### Setup\n",
        "<a id='setup'></a>"
      ]
    },
    {
      "cell_type": "code",
      "metadata": {
        "id": "0eBukKcZoUhk",
        "colab_type": "code",
        "colab": {}
      },
      "source": [
        "from datetime import datetime\n",
        "import dateutil.parser\n",
        "import re\n",
        "\n",
        "import pandas as pd\n",
        "import numpy as np\n",
        "import seaborn as sns\n",
        "import matplotlib.pyplot as plt\n",
        "\n",
        "# The command below means that the output of multiple commands in a cell will be output at once\n",
        "from IPython.core.interactiveshell import InteractiveShell\n",
        "InteractiveShell.ast_node_interactivity = \"all\"\n",
        "\n",
        "# The command below tells jupyter to display up to 80 columns, this keeps everything visible\n",
        "pd.set_option('display.max_columns', 80)\n",
        "pd.set_option('expand_frame_repr', True)\n",
        "\n",
        "sns.set_palette(\"hls\")\n",
        "%matplotlib inline"
      ],
      "execution_count": 0,
      "outputs": []
    },
    {
      "cell_type": "markdown",
      "metadata": {
        "id": "kJwND2r4oUho",
        "colab_type": "text"
      },
      "source": [
        "With each notebook, we need to read in our dataset"
      ]
    },
    {
      "cell_type": "code",
      "metadata": {
        "id": "2Ze7wfOMoUhp",
        "colab_type": "code",
        "colab": {}
      },
      "source": [
        "path = ''\n",
        "filename = '/loans.csv'\n",
        "df = pd.read_csv(path+filename)"
      ],
      "execution_count": 0,
      "outputs": []
    },
    {
      "cell_type": "code",
      "metadata": {
        "id": "GUdyFMfPoUhs",
        "colab_type": "code",
        "outputId": "82859fb8-f8ae-43f3-9033-8cf530be6d80",
        "colab": {
          "base_uri": "https://localhost:8080/",
          "height": 329
        }
      },
      "source": [
        "df.head()"
      ],
      "execution_count": 0,
      "outputs": [
        {
          "output_type": "execute_result",
          "data": {
            "text/html": [
              "<div>\n",
              "<style scoped>\n",
              "    .dataframe tbody tr th:only-of-type {\n",
              "        vertical-align: middle;\n",
              "    }\n",
              "\n",
              "    .dataframe tbody tr th {\n",
              "        vertical-align: top;\n",
              "    }\n",
              "\n",
              "    .dataframe thead th {\n",
              "        text-align: right;\n",
              "    }\n",
              "</style>\n",
              "<table border=\"1\" class=\"dataframe\">\n",
              "  <thead>\n",
              "    <tr style=\"text-align: right;\">\n",
              "      <th></th>\n",
              "      <th>id_number</th>\n",
              "      <th>loan_amount</th>\n",
              "      <th>lender_count</th>\n",
              "      <th>status</th>\n",
              "      <th>funded_date</th>\n",
              "      <th>funded_amount</th>\n",
              "      <th>repayment_term</th>\n",
              "      <th>location_country_code</th>\n",
              "      <th>sector</th>\n",
              "      <th>description</th>\n",
              "      <th>use</th>\n",
              "    </tr>\n",
              "  </thead>\n",
              "  <tbody>\n",
              "    <tr>\n",
              "      <th>0</th>\n",
              "      <td>736066</td>\n",
              "      <td>4825</td>\n",
              "      <td>60</td>\n",
              "      <td>funded</td>\n",
              "      <td>2014-08-03T17:51:50Z</td>\n",
              "      <td>4825</td>\n",
              "      <td>8</td>\n",
              "      <td>BJ</td>\n",
              "      <td>Retail</td>\n",
              "      <td>NaN</td>\n",
              "      <td>NaN</td>\n",
              "    </tr>\n",
              "    <tr>\n",
              "      <th>1</th>\n",
              "      <td>743090</td>\n",
              "      <td>975</td>\n",
              "      <td>34</td>\n",
              "      <td>funded</td>\n",
              "      <td>2014-08-18T09:10:54Z</td>\n",
              "      <td>975</td>\n",
              "      <td>12</td>\n",
              "      <td>BJ</td>\n",
              "      <td>Food</td>\n",
              "      <td>NaN</td>\n",
              "      <td>NaN</td>\n",
              "    </tr>\n",
              "    <tr>\n",
              "      <th>2</th>\n",
              "      <td>743120</td>\n",
              "      <td>950</td>\n",
              "      <td>25</td>\n",
              "      <td>funded</td>\n",
              "      <td>2014-08-09T17:46:35Z</td>\n",
              "      <td>950</td>\n",
              "      <td>14</td>\n",
              "      <td>BJ</td>\n",
              "      <td>Services</td>\n",
              "      <td>NaN</td>\n",
              "      <td>NaN</td>\n",
              "    </tr>\n",
              "    <tr>\n",
              "      <th>3</th>\n",
              "      <td>743121</td>\n",
              "      <td>825</td>\n",
              "      <td>28</td>\n",
              "      <td>funded</td>\n",
              "      <td>2014-08-24T17:00:38Z</td>\n",
              "      <td>825</td>\n",
              "      <td>14</td>\n",
              "      <td>BJ</td>\n",
              "      <td>Retail</td>\n",
              "      <td>NaN</td>\n",
              "      <td>NaN</td>\n",
              "    </tr>\n",
              "    <tr>\n",
              "      <th>4</th>\n",
              "      <td>743124</td>\n",
              "      <td>725</td>\n",
              "      <td>21</td>\n",
              "      <td>funded</td>\n",
              "      <td>2014-08-25T03:24:54Z</td>\n",
              "      <td>725</td>\n",
              "      <td>13</td>\n",
              "      <td>BJ</td>\n",
              "      <td>Retail</td>\n",
              "      <td>NaN</td>\n",
              "      <td>NaN</td>\n",
              "    </tr>\n",
              "  </tbody>\n",
              "</table>\n",
              "</div>"
            ],
            "text/plain": [
              "   id_number  loan_amount  lender_count  status           funded_date  \\\n",
              "0     736066         4825            60  funded  2014-08-03T17:51:50Z   \n",
              "1     743090          975            34  funded  2014-08-18T09:10:54Z   \n",
              "2     743120          950            25  funded  2014-08-09T17:46:35Z   \n",
              "3     743121          825            28  funded  2014-08-24T17:00:38Z   \n",
              "4     743124          725            21  funded  2014-08-25T03:24:54Z   \n",
              "\n",
              "   funded_amount  repayment_term location_country_code    sector description  \\\n",
              "0           4825               8                    BJ    Retail         NaN   \n",
              "1            975              12                    BJ      Food         NaN   \n",
              "2            950              14                    BJ  Services         NaN   \n",
              "3            825              14                    BJ    Retail         NaN   \n",
              "4            725              13                    BJ    Retail         NaN   \n",
              "\n",
              "   use  \n",
              "0  NaN  \n",
              "1  NaN  \n",
              "2  NaN  \n",
              "3  NaN  \n",
              "4  NaN  "
            ]
          },
          "metadata": {
            "tags": []
          },
          "execution_count": 17
        }
      ]
    },
    {
      "cell_type": "markdown",
      "metadata": {
        "id": "6HER_0XpoUhx",
        "colab_type": "text"
      },
      "source": [
        "Before diving into our exploratory data analysis, it is worth reiterating that this whole process is about understanding the distribution of data and relationships between different features.\n",
        "\n",
        "When we move on to use machine learning algorithms, we will be asking a question and trying to answer it using the statistical relationships between different features in the data. The EDA analysis will help us shape this question and have a clear idea about how to approach building the algorithm!\n",
        "\n",
        "With that in mind, let's look at several visualization methods to examine the data and any relationships between features…"
      ]
    },
    {
      "cell_type": "markdown",
      "metadata": {
        "id": "9cDNJkcUoUhy",
        "colab_type": "text"
      },
      "source": [
        "### 1. Scatter plot"
      ]
    },
    {
      "cell_type": "markdown",
      "metadata": {
        "id": "8eziZwneoUh1",
        "colab_type": "text"
      },
      "source": [
        "To start, the scatter plot! This is a very popular and powerful way to visualize the relationship between two continuous features. Essentially this plot shows us how feature Y changes when feature X is changed. If there is a clear pattern formed in the scatter plot, we say that x and y are **correlated**. \n",
        "\n",
        "There are several outcomes we see on a scatter plot:\n",
        "- Positive Linear = When X increases, y increases and the data points follow an approximate straight line\n",
        "- Negative Linear = When X increase, y decreases and the data points follow an approximate straight line\n",
        "- Non-Linear = When X increases, there is a consistent change in Y but this is not linear. It could be quadratic or exponential for example. \n",
        "- No correlation = When X increases, there is no clear pattern to how y changes, The data points form a random distribution.\n",
        "\n",
        "Let's try this out on our data and choose two continuous variables to plot. First lets extract all the continuous variables from our dataset."
      ]
    },
    {
      "cell_type": "code",
      "metadata": {
        "id": "ffSSfLXroUh3",
        "colab_type": "code",
        "outputId": "d6daa7ca-c9d6-4716-cab9-440ca44358d7",
        "colab": {
          "base_uri": "https://localhost:8080/",
          "height": 102
        }
      },
      "source": [
        "numeric_vars = df.select_dtypes(include=[np.number]).columns.tolist()\n",
        "for variable in numeric_vars:\n",
        "    print(variable)"
      ],
      "execution_count": 0,
      "outputs": [
        {
          "output_type": "stream",
          "text": [
            "id_number\n",
            "loan_amount\n",
            "lender_count\n",
            "funded_amount\n",
            "repayment_term\n"
          ],
          "name": "stdout"
        }
      ]
    },
    {
      "cell_type": "markdown",
      "metadata": {
        "id": "BwWrhqBToUh7",
        "colab_type": "text"
      },
      "source": [
        "To start, let's look if there is a relationship between lender_count and loan_amount... intuition suggests that bigger loans much have more lenders. If this is true, we'll see this in the scatter plot!"
      ]
    },
    {
      "cell_type": "code",
      "metadata": {
        "id": "GM4r2-NxoUh7",
        "colab_type": "code",
        "outputId": "205a4828-4d9a-4063-d31e-84226135fe1f",
        "colab": {
          "base_uri": "https://localhost:8080/",
          "height": 284
        }
      },
      "source": [
        "ax = sns.regplot(x='lender_count', y='loan_amount', data=df)"
      ],
      "execution_count": 0,
      "outputs": [
        {
          "output_type": "display_data",
          "data": {
            "image/png": "[encoded data removed]",
            "text/plain": [
              "<Figure size 432x288 with 1 Axes>"
            ]
          },
          "metadata": {
            "tags": []
          }
        }
      ]
    },
    {
      "cell_type": "markdown",
      "metadata": {
        "id": "XUJ2AYHVoUh-",
        "colab_type": "text"
      },
      "source": [
        "Where does the data follow the line?\n",
        "\n",
        "Where does the data __not__ follow the line?\n",
        "\n",
        "What are possible reasons that data does __not__ follow the line?"
      ]
    },
    {
      "cell_type": "markdown",
      "metadata": {
        "id": "B5T2CDOooUh_",
        "colab_type": "text"
      },
      "source": [
        "-----\n",
        "Let's explore another relationship.\n",
        "------\n",
        "\n",
        "How about the repayment term and the loan amount? \n",
        "\n",
        "What kind of relationship would you expect between the repayment term and the loan amount?"
      ]
    },
    {
      "cell_type": "code",
      "metadata": {
        "id": "vqgtOSbCoUh_",
        "colab_type": "code",
        "outputId": "88a7e0a7-86c9-486c-883e-b06c8ba70bce",
        "colab": {
          "base_uri": "https://localhost:8080/",
          "height": 283
        }
      },
      "source": [
        "ax = sns.regplot(x='repayment_term', \n",
        "                 y='loan_amount', \n",
        "                 data=df)"
      ],
      "execution_count": 0,
      "outputs": [
        {
          "output_type": "display_data",
          "data": {
            "image/png": "[encoded data removed]",
            "text/plain": [
              "<Figure size 432x288 with 1 Axes>"
            ]
          },
          "metadata": {
            "tags": []
          }
        }
      ]
    },
    {
      "cell_type": "markdown",
      "metadata": {
        "id": "8nFj9TdcoUiD",
        "colab_type": "text"
      },
      "source": [
        "Where does the data follow the line?\n",
        "\n",
        "Where does the data __not__ follow the line?\n",
        "\n",
        "What are possible reasons that data does __not__ follow the line?"
      ]
    },
    {
      "cell_type": "markdown",
      "metadata": {
        "id": "HJ4e1tAdoUiE",
        "colab_type": "text"
      },
      "source": [
        "### 2. Scatter Matrix\n",
        "\n",
        "When we have lots of continuous variables, we could go through them one by one to see the relationship or we could use a scatterplot matrix! This creates a scatter plot between every combination of variables in a list. \n",
        "\n",
        "Another interesting quality of the scatter matrix is that the diagonals give a histogram of the variable in question. "
      ]
    },
    {
      "cell_type": "code",
      "metadata": {
        "id": "5HzmUEaVoUiF",
        "colab_type": "code",
        "outputId": "ffb226fa-712d-4670-c4fe-24bbcd3b2f33",
        "colab": {}
      },
      "source": [
        "num_df"
      ],
      "execution_count": 0,
      "outputs": [
        {
          "output_type": "execute_result",
          "data": {
            "text/html": [
              "<div>\n",
              "<style scoped>\n",
              "    .dataframe tbody tr th:only-of-type {\n",
              "        vertical-align: middle;\n",
              "    }\n",
              "\n",
              "    .dataframe tbody tr th {\n",
              "        vertical-align: top;\n",
              "    }\n",
              "\n",
              "    .dataframe thead th {\n",
              "        text-align: right;\n",
              "    }\n",
              "</style>\n",
              "<table border=\"1\" class=\"dataframe\">\n",
              "  <thead>\n",
              "    <tr style=\"text-align: right;\">\n",
              "      <th></th>\n",
              "      <th>loan_amount</th>\n",
              "      <th>funded_amount</th>\n",
              "      <th>status</th>\n",
              "    </tr>\n",
              "  </thead>\n",
              "  <tbody>\n",
              "    <tr>\n",
              "      <th>0</th>\n",
              "      <td>4825</td>\n",
              "      <td>4825</td>\n",
              "      <td>funded</td>\n",
              "    </tr>\n",
              "    <tr>\n",
              "      <th>1</th>\n",
              "      <td>975</td>\n",
              "      <td>975</td>\n",
              "      <td>funded</td>\n",
              "    </tr>\n",
              "    <tr>\n",
              "      <th>2</th>\n",
              "      <td>950</td>\n",
              "      <td>950</td>\n",
              "      <td>funded</td>\n",
              "    </tr>\n",
              "    <tr>\n",
              "      <th>3</th>\n",
              "      <td>825</td>\n",
              "      <td>825</td>\n",
              "      <td>funded</td>\n",
              "    </tr>\n",
              "    <tr>\n",
              "      <th>4</th>\n",
              "      <td>725</td>\n",
              "      <td>725</td>\n",
              "      <td>funded</td>\n",
              "    </tr>\n",
              "    <tr>\n",
              "      <th>5</th>\n",
              "      <td>725</td>\n",
              "      <td>725</td>\n",
              "      <td>funded</td>\n",
              "    </tr>\n",
              "    <tr>\n",
              "      <th>6</th>\n",
              "      <td>725</td>\n",
              "      <td>725</td>\n",
              "      <td>funded</td>\n",
              "    </tr>\n",
              "    <tr>\n",
              "      <th>7</th>\n",
              "      <td>525</td>\n",
              "      <td>525</td>\n",
              "      <td>funded</td>\n",
              "    </tr>\n",
              "    <tr>\n",
              "      <th>8</th>\n",
              "      <td>950</td>\n",
              "      <td>950</td>\n",
              "      <td>funded</td>\n",
              "    </tr>\n",
              "    <tr>\n",
              "      <th>9</th>\n",
              "      <td>500</td>\n",
              "      <td>500</td>\n",
              "      <td>funded</td>\n",
              "    </tr>\n",
              "    <tr>\n",
              "      <th>10</th>\n",
              "      <td>200</td>\n",
              "      <td>200</td>\n",
              "      <td>funded</td>\n",
              "    </tr>\n",
              "    <tr>\n",
              "      <th>11</th>\n",
              "      <td>225</td>\n",
              "      <td>225</td>\n",
              "      <td>funded</td>\n",
              "    </tr>\n",
              "    <tr>\n",
              "      <th>12</th>\n",
              "      <td>400</td>\n",
              "      <td>400</td>\n",
              "      <td>funded</td>\n",
              "    </tr>\n",
              "    <tr>\n",
              "      <th>13</th>\n",
              "      <td>5850</td>\n",
              "      <td>5850</td>\n",
              "      <td>funded</td>\n",
              "    </tr>\n",
              "    <tr>\n",
              "      <th>14</th>\n",
              "      <td>1250</td>\n",
              "      <td>1250</td>\n",
              "      <td>funded</td>\n",
              "    </tr>\n",
              "    <tr>\n",
              "      <th>15</th>\n",
              "      <td>500</td>\n",
              "      <td>500</td>\n",
              "      <td>funded</td>\n",
              "    </tr>\n",
              "    <tr>\n",
              "      <th>16</th>\n",
              "      <td>1000</td>\n",
              "      <td>1000</td>\n",
              "      <td>funded</td>\n",
              "    </tr>\n",
              "    <tr>\n",
              "      <th>17</th>\n",
              "      <td>300</td>\n",
              "      <td>300</td>\n",
              "      <td>funded</td>\n",
              "    </tr>\n",
              "    <tr>\n",
              "      <th>18</th>\n",
              "      <td>50000</td>\n",
              "      <td>50000</td>\n",
              "      <td>funded</td>\n",
              "    </tr>\n",
              "    <tr>\n",
              "      <th>19</th>\n",
              "      <td>50000</td>\n",
              "      <td>50000</td>\n",
              "      <td>funded</td>\n",
              "    </tr>\n",
              "    <tr>\n",
              "      <th>20</th>\n",
              "      <td>950</td>\n",
              "      <td>950</td>\n",
              "      <td>funded</td>\n",
              "    </tr>\n",
              "    <tr>\n",
              "      <th>21</th>\n",
              "      <td>1200</td>\n",
              "      <td>1200</td>\n",
              "      <td>funded</td>\n",
              "    </tr>\n",
              "    <tr>\n",
              "      <th>22</th>\n",
              "      <td>1025</td>\n",
              "      <td>1025</td>\n",
              "      <td>funded</td>\n",
              "    </tr>\n",
              "    <tr>\n",
              "      <th>23</th>\n",
              "      <td>950</td>\n",
              "      <td>950</td>\n",
              "      <td>funded</td>\n",
              "    </tr>\n",
              "    <tr>\n",
              "      <th>24</th>\n",
              "      <td>900</td>\n",
              "      <td>900</td>\n",
              "      <td>funded</td>\n",
              "    </tr>\n",
              "    <tr>\n",
              "      <th>25</th>\n",
              "      <td>3825</td>\n",
              "      <td>3825</td>\n",
              "      <td>funded</td>\n",
              "    </tr>\n",
              "    <tr>\n",
              "      <th>26</th>\n",
              "      <td>850</td>\n",
              "      <td>850</td>\n",
              "      <td>funded</td>\n",
              "    </tr>\n",
              "    <tr>\n",
              "      <th>27</th>\n",
              "      <td>875</td>\n",
              "      <td>875</td>\n",
              "      <td>funded</td>\n",
              "    </tr>\n",
              "    <tr>\n",
              "      <th>28</th>\n",
              "      <td>750</td>\n",
              "      <td>750</td>\n",
              "      <td>funded</td>\n",
              "    </tr>\n",
              "    <tr>\n",
              "      <th>29</th>\n",
              "      <td>475</td>\n",
              "      <td>475</td>\n",
              "      <td>funded</td>\n",
              "    </tr>\n",
              "    <tr>\n",
              "      <th>...</th>\n",
              "      <td>...</td>\n",
              "      <td>...</td>\n",
              "      <td>...</td>\n",
              "    </tr>\n",
              "    <tr>\n",
              "      <th>5989</th>\n",
              "      <td>200</td>\n",
              "      <td>200</td>\n",
              "      <td>funded</td>\n",
              "    </tr>\n",
              "    <tr>\n",
              "      <th>5990</th>\n",
              "      <td>200</td>\n",
              "      <td>200</td>\n",
              "      <td>funded</td>\n",
              "    </tr>\n",
              "    <tr>\n",
              "      <th>5991</th>\n",
              "      <td>200</td>\n",
              "      <td>200</td>\n",
              "      <td>funded</td>\n",
              "    </tr>\n",
              "    <tr>\n",
              "      <th>5992</th>\n",
              "      <td>200</td>\n",
              "      <td>200</td>\n",
              "      <td>funded</td>\n",
              "    </tr>\n",
              "    <tr>\n",
              "      <th>5993</th>\n",
              "      <td>200</td>\n",
              "      <td>200</td>\n",
              "      <td>funded</td>\n",
              "    </tr>\n",
              "    <tr>\n",
              "      <th>5994</th>\n",
              "      <td>200</td>\n",
              "      <td>200</td>\n",
              "      <td>funded</td>\n",
              "    </tr>\n",
              "    <tr>\n",
              "      <th>5995</th>\n",
              "      <td>200</td>\n",
              "      <td>200</td>\n",
              "      <td>funded</td>\n",
              "    </tr>\n",
              "    <tr>\n",
              "      <th>5996</th>\n",
              "      <td>200</td>\n",
              "      <td>200</td>\n",
              "      <td>funded</td>\n",
              "    </tr>\n",
              "    <tr>\n",
              "      <th>5997</th>\n",
              "      <td>200</td>\n",
              "      <td>200</td>\n",
              "      <td>funded</td>\n",
              "    </tr>\n",
              "    <tr>\n",
              "      <th>5998</th>\n",
              "      <td>500</td>\n",
              "      <td>500</td>\n",
              "      <td>funded</td>\n",
              "    </tr>\n",
              "    <tr>\n",
              "      <th>5999</th>\n",
              "      <td>200</td>\n",
              "      <td>200</td>\n",
              "      <td>funded</td>\n",
              "    </tr>\n",
              "    <tr>\n",
              "      <th>6000</th>\n",
              "      <td>200</td>\n",
              "      <td>200</td>\n",
              "      <td>funded</td>\n",
              "    </tr>\n",
              "    <tr>\n",
              "      <th>6001</th>\n",
              "      <td>200</td>\n",
              "      <td>200</td>\n",
              "      <td>funded</td>\n",
              "    </tr>\n",
              "    <tr>\n",
              "      <th>6002</th>\n",
              "      <td>200</td>\n",
              "      <td>200</td>\n",
              "      <td>funded</td>\n",
              "    </tr>\n",
              "    <tr>\n",
              "      <th>6003</th>\n",
              "      <td>200</td>\n",
              "      <td>200</td>\n",
              "      <td>funded</td>\n",
              "    </tr>\n",
              "    <tr>\n",
              "      <th>6004</th>\n",
              "      <td>200</td>\n",
              "      <td>200</td>\n",
              "      <td>funded</td>\n",
              "    </tr>\n",
              "    <tr>\n",
              "      <th>6005</th>\n",
              "      <td>200</td>\n",
              "      <td>200</td>\n",
              "      <td>funded</td>\n",
              "    </tr>\n",
              "    <tr>\n",
              "      <th>6006</th>\n",
              "      <td>200</td>\n",
              "      <td>200</td>\n",
              "      <td>funded</td>\n",
              "    </tr>\n",
              "    <tr>\n",
              "      <th>6007</th>\n",
              "      <td>200</td>\n",
              "      <td>200</td>\n",
              "      <td>funded</td>\n",
              "    </tr>\n",
              "    <tr>\n",
              "      <th>6008</th>\n",
              "      <td>200</td>\n",
              "      <td>200</td>\n",
              "      <td>funded</td>\n",
              "    </tr>\n",
              "    <tr>\n",
              "      <th>6009</th>\n",
              "      <td>200</td>\n",
              "      <td>200</td>\n",
              "      <td>funded</td>\n",
              "    </tr>\n",
              "    <tr>\n",
              "      <th>6010</th>\n",
              "      <td>200</td>\n",
              "      <td>200</td>\n",
              "      <td>funded</td>\n",
              "    </tr>\n",
              "    <tr>\n",
              "      <th>6011</th>\n",
              "      <td>200</td>\n",
              "      <td>200</td>\n",
              "      <td>funded</td>\n",
              "    </tr>\n",
              "    <tr>\n",
              "      <th>6012</th>\n",
              "      <td>200</td>\n",
              "      <td>200</td>\n",
              "      <td>funded</td>\n",
              "    </tr>\n",
              "    <tr>\n",
              "      <th>6013</th>\n",
              "      <td>200</td>\n",
              "      <td>200</td>\n",
              "      <td>funded</td>\n",
              "    </tr>\n",
              "    <tr>\n",
              "      <th>6014</th>\n",
              "      <td>200</td>\n",
              "      <td>200</td>\n",
              "      <td>funded</td>\n",
              "    </tr>\n",
              "    <tr>\n",
              "      <th>6015</th>\n",
              "      <td>200</td>\n",
              "      <td>200</td>\n",
              "      <td>funded</td>\n",
              "    </tr>\n",
              "    <tr>\n",
              "      <th>6016</th>\n",
              "      <td>200</td>\n",
              "      <td>200</td>\n",
              "      <td>funded</td>\n",
              "    </tr>\n",
              "    <tr>\n",
              "      <th>6017</th>\n",
              "      <td>200</td>\n",
              "      <td>200</td>\n",
              "      <td>funded</td>\n",
              "    </tr>\n",
              "    <tr>\n",
              "      <th>6018</th>\n",
              "      <td>200</td>\n",
              "      <td>200</td>\n",
              "      <td>funded</td>\n",
              "    </tr>\n",
              "  </tbody>\n",
              "</table>\n",
              "<p>6019 rows × 3 columns</p>\n",
              "</div>"
            ],
            "text/plain": [
              "      loan_amount  funded_amount  status\n",
              "0            4825           4825  funded\n",
              "1             975            975  funded\n",
              "2             950            950  funded\n",
              "3             825            825  funded\n",
              "4             725            725  funded\n",
              "5             725            725  funded\n",
              "6             725            725  funded\n",
              "7             525            525  funded\n",
              "8             950            950  funded\n",
              "9             500            500  funded\n",
              "10            200            200  funded\n",
              "11            225            225  funded\n",
              "12            400            400  funded\n",
              "13           5850           5850  funded\n",
              "14           1250           1250  funded\n",
              "15            500            500  funded\n",
              "16           1000           1000  funded\n",
              "17            300            300  funded\n",
              "18          50000          50000  funded\n",
              "19          50000          50000  funded\n",
              "20            950            950  funded\n",
              "21           1200           1200  funded\n",
              "22           1025           1025  funded\n",
              "23            950            950  funded\n",
              "24            900            900  funded\n",
              "25           3825           3825  funded\n",
              "26            850            850  funded\n",
              "27            875            875  funded\n",
              "28            750            750  funded\n",
              "29            475            475  funded\n",
              "...           ...            ...     ...\n",
              "5989          200            200  funded\n",
              "5990          200            200  funded\n",
              "5991          200            200  funded\n",
              "5992          200            200  funded\n",
              "5993          200            200  funded\n",
              "5994          200            200  funded\n",
              "5995          200            200  funded\n",
              "5996          200            200  funded\n",
              "5997          200            200  funded\n",
              "5998          500            500  funded\n",
              "5999          200            200  funded\n",
              "6000          200            200  funded\n",
              "6001          200            200  funded\n",
              "6002          200            200  funded\n",
              "6003          200            200  funded\n",
              "6004          200            200  funded\n",
              "6005          200            200  funded\n",
              "6006          200            200  funded\n",
              "6007          200            200  funded\n",
              "6008          200            200  funded\n",
              "6009          200            200  funded\n",
              "6010          200            200  funded\n",
              "6011          200            200  funded\n",
              "6012          200            200  funded\n",
              "6013          200            200  funded\n",
              "6014          200            200  funded\n",
              "6015          200            200  funded\n",
              "6016          200            200  funded\n",
              "6017          200            200  funded\n",
              "6018          200            200  funded\n",
              "\n",
              "[6019 rows x 3 columns]"
            ]
          },
          "metadata": {
            "tags": []
          },
          "execution_count": 23
        }
      ]
    },
    {
      "cell_type": "code",
      "metadata": {
        "id": "cY3zasP9oUiK",
        "colab_type": "code",
        "outputId": "78999695-e297-46b1-f775-cacda1bd46df",
        "colab": {
          "base_uri": "https://localhost:8080/",
          "height": 369
        }
      },
      "source": [
        "# Let's choose only a couple of columns to examine:\n",
        "columns = ['loan_amount', 'funded_amount',  'status']\n",
        "num_df = df[columns]\n",
        "\n",
        "# Remove the NaN rows so Seaborn can plot\n",
        "num_df = num_df.dropna(axis=0, how='any')\n",
        "\n",
        "# Create the scatter plot and let's color the data point by their status.\n",
        "sns.pairplot(num_df, hue='status');"
      ],
      "execution_count": 0,
      "outputs": [
        {
          "output_type": "display_data",
          "data": {
            "image/png": "[encoded data removed]",
            "text/plain": [
              "<Figure size 452.75x360 with 6 Axes>"
            ]
          },
          "metadata": {
            "tags": []
          }
        }
      ]
    },
    {
      "cell_type": "markdown",
      "metadata": {
        "id": "7k3K8JptoUiN",
        "colab_type": "text"
      },
      "source": [
        "What can say about the data?\n",
        "\n",
        "<br>\n",
        "<br>\n",
        "<br>"
      ]
    },
    {
      "cell_type": "markdown",
      "metadata": {
        "id": "kJkIBGgDoUiN",
        "colab_type": "text"
      },
      "source": [
        "### 4. Histogram\n",
        "\n",
        "A histogram is useful for looking at the distribution of values for a single variable and also identifying outliers. It shows us the count of data.\n",
        "\n",
        "The plot below shows the data distribution of loan_amount using both bars and a continuous line. Without going into too much detail about the value on the y-axis, what we can take away from this is there is a much higher occurrence of small loans (high bar/peak in the line) and that large loans are much rarer (low bars/drop in the line)."
      ]
    },
    {
      "cell_type": "code",
      "metadata": {
        "id": "gyQXU_JVoUiO",
        "colab_type": "code",
        "outputId": "73d798f2-c95c-4f8d-bfc7-febeb9535c67",
        "colab": {
          "base_uri": "https://localhost:8080/",
          "height": 284
        }
      },
      "source": [
        "sns.distplot(df['loan_amount'].dropna(axis = 0));"
      ],
      "execution_count": 0,
      "outputs": [
        {
          "output_type": "display_data",
          "data": {
            "image/png": "[encoded data removed]",
            "text/plain": [
              "<Figure size 432x288 with 1 Axes>"
            ]
          },
          "metadata": {
            "tags": []
          }
        }
      ]
    },
    {
      "cell_type": "code",
      "metadata": {
        "id": "QnGorbKioUiQ",
        "colab_type": "code",
        "outputId": "0d07e6ed-1e44-495c-d288-4648b8da07c2",
        "colab": {
          "base_uri": "https://localhost:8080/",
          "height": 284
        }
      },
      "source": [
        "# Let's just look at those under 5K\n",
        "small_loans_df = df[(df['loan_amount'] < 5000)]\n",
        "sns.distplot(small_loans_df['loan_amount']);"
      ],
      "execution_count": 0,
      "outputs": [
        {
          "output_type": "display_data",
          "data": {
            "image/png": "[encoded data removed]",
            "text/plain": [
              "<Figure size 432x288 with 1 Axes>"
            ]
          },
          "metadata": {
            "tags": []
          }
        }
      ]
    },
    {
      "cell_type": "markdown",
      "metadata": {
        "id": "MwpVKchsoUiR",
        "colab_type": "text"
      },
      "source": [
        "Looking at the loans less than 5000 we see a much clearer distribution, although it is still left-hand skewed. "
      ]
    },
    {
      "cell_type": "markdown",
      "metadata": {
        "id": "1qPXp8yToUiS",
        "colab_type": "text"
      },
      "source": [
        "### 5. Bar Plot\n",
        "\n",
        "Bar plots are useful for understanding how categorical groups are different with respect to a continuous variable.\n"
      ]
    },
    {
      "cell_type": "code",
      "metadata": {
        "id": "KdJOwJVroUiS",
        "colab_type": "code",
        "outputId": "77777eda-ab22-4bc1-cc9e-47b8b28f8160",
        "colab": {}
      },
      "source": [
        "p = sns.barplot(x='sector', y = 'loan_amount', data=df, estimator=np.mean);\n",
        "p.set(title='Average loan amount by sector')\n",
        "p.set_xticklabels(p.get_xticklabels(), rotation=-45);"
      ],
      "execution_count": 0,
      "outputs": [
        {
          "output_type": "display_data",
          "data": {
            "image/png": "[encoded data removed]",
            "text/plain": [
              "<Figure size 432x288 with 1 Axes>"
            ]
          },
          "metadata": {
            "tags": []
          }
        }
      ]
    },
    {
      "cell_type": "markdown",
      "metadata": {
        "id": "Nn0NFh0XoUiU",
        "colab_type": "text"
      },
      "source": [
        "Which sector is the largest? Why?"
      ]
    },
    {
      "cell_type": "code",
      "metadata": {
        "id": "8J46f2gzoUiV",
        "colab_type": "code",
        "outputId": "6638d294-6c48-4483-fdc1-859d41f966a6",
        "colab": {}
      },
      "source": [
        "p = sns.barplot(x='sector', y = 'loan_amount', data=df, estimator=np.sum);\n",
        "p.set(title='Total loan amount by sector')\n",
        "p.set_xticklabels(p.get_xticklabels(), rotation=-45);"
      ],
      "execution_count": 0,
      "outputs": [
        {
          "output_type": "display_data",
          "data": {
            "image/png": "[encoded data removed]",
            "text/plain": [
              "<Figure size 432x288 with 1 Axes>"
            ]
          },
          "metadata": {
            "tags": []
          }
        }
      ]
    },
    {
      "cell_type": "markdown",
      "metadata": {
        "id": "MWXGwhx4oUiX",
        "colab_type": "text"
      },
      "source": [
        "Which sector is the largest? Why?\n",
        "\n",
        "<br>\n",
        "<br>"
      ]
    },
    {
      "cell_type": "markdown",
      "metadata": {
        "id": "vYj5sX_0oUiY",
        "colab_type": "text"
      },
      "source": [
        "### 6. Box Plots\n",
        "\n",
        "A box plot describes the distribution of data based on five important summary numbers: the minimum, first quartile, median, third quartile, and maximum. In the simplest box plot the central rectangle spans the first quartile to the third quartile (the interquartile range or IQR). A segment inside the rectangle shows the median and \"whiskers\" above and below the box show the locations of the minimum and maximum. \n",
        "\n",
        "Lets use this to look at the distribution of borrowers counts by each sector for different loan status for different partners. First lets look at how many loans come from different partners."
      ]
    },
    {
      "cell_type": "code",
      "metadata": {
        "id": "YL58ytmkoUiY",
        "colab_type": "code",
        "outputId": "fc4f203b-3b54-4f9c-9013-57ebf7d9f375",
        "colab": {}
      },
      "source": [
        "df_retail = df[df.sector=='Retail']\n",
        "df_retail.head()"
      ],
      "execution_count": 0,
      "outputs": [
        {
          "output_type": "execute_result",
          "data": {
            "text/html": [
              "<div>\n",
              "<style scoped>\n",
              "    .dataframe tbody tr th:only-of-type {\n",
              "        vertical-align: middle;\n",
              "    }\n",
              "\n",
              "    .dataframe tbody tr th {\n",
              "        vertical-align: top;\n",
              "    }\n",
              "\n",
              "    .dataframe thead th {\n",
              "        text-align: right;\n",
              "    }\n",
              "</style>\n",
              "<table border=\"1\" class=\"dataframe\">\n",
              "  <thead>\n",
              "    <tr style=\"text-align: right;\">\n",
              "      <th></th>\n",
              "      <th>id_number</th>\n",
              "      <th>loan_amount</th>\n",
              "      <th>lender_count</th>\n",
              "      <th>status</th>\n",
              "      <th>funded_date</th>\n",
              "      <th>funded_amount</th>\n",
              "      <th>repayment_term</th>\n",
              "      <th>location_country_code</th>\n",
              "      <th>sector</th>\n",
              "      <th>description</th>\n",
              "      <th>use</th>\n",
              "    </tr>\n",
              "  </thead>\n",
              "  <tbody>\n",
              "    <tr>\n",
              "      <th>0</th>\n",
              "      <td>736066</td>\n",
              "      <td>4825</td>\n",
              "      <td>60</td>\n",
              "      <td>funded</td>\n",
              "      <td>2014-08-03T17:51:50Z</td>\n",
              "      <td>4825</td>\n",
              "      <td>8</td>\n",
              "      <td>BJ</td>\n",
              "      <td>Retail</td>\n",
              "      <td>NaN</td>\n",
              "      <td>NaN</td>\n",
              "    </tr>\n",
              "    <tr>\n",
              "      <th>3</th>\n",
              "      <td>743121</td>\n",
              "      <td>825</td>\n",
              "      <td>28</td>\n",
              "      <td>funded</td>\n",
              "      <td>2014-08-24T17:00:38Z</td>\n",
              "      <td>825</td>\n",
              "      <td>14</td>\n",
              "      <td>BJ</td>\n",
              "      <td>Retail</td>\n",
              "      <td>NaN</td>\n",
              "      <td>NaN</td>\n",
              "    </tr>\n",
              "    <tr>\n",
              "      <th>4</th>\n",
              "      <td>743124</td>\n",
              "      <td>725</td>\n",
              "      <td>21</td>\n",
              "      <td>funded</td>\n",
              "      <td>2014-08-25T03:24:54Z</td>\n",
              "      <td>725</td>\n",
              "      <td>13</td>\n",
              "      <td>BJ</td>\n",
              "      <td>Retail</td>\n",
              "      <td>NaN</td>\n",
              "      <td>NaN</td>\n",
              "    </tr>\n",
              "    <tr>\n",
              "      <th>5</th>\n",
              "      <td>743125</td>\n",
              "      <td>725</td>\n",
              "      <td>27</td>\n",
              "      <td>funded</td>\n",
              "      <td>2014-08-18T23:08:00Z</td>\n",
              "      <td>725</td>\n",
              "      <td>13</td>\n",
              "      <td>BJ</td>\n",
              "      <td>Retail</td>\n",
              "      <td>NaN</td>\n",
              "      <td>NaN</td>\n",
              "    </tr>\n",
              "    <tr>\n",
              "      <th>6</th>\n",
              "      <td>743130</td>\n",
              "      <td>725</td>\n",
              "      <td>27</td>\n",
              "      <td>funded</td>\n",
              "      <td>2014-08-19T12:14:49Z</td>\n",
              "      <td>725</td>\n",
              "      <td>13</td>\n",
              "      <td>BJ</td>\n",
              "      <td>Retail</td>\n",
              "      <td>NaN</td>\n",
              "      <td>NaN</td>\n",
              "    </tr>\n",
              "  </tbody>\n",
              "</table>\n",
              "</div>"
            ],
            "text/plain": [
              "   id_number  loan_amount  lender_count  status           funded_date  \\\n",
              "0     736066         4825            60  funded  2014-08-03T17:51:50Z   \n",
              "3     743121          825            28  funded  2014-08-24T17:00:38Z   \n",
              "4     743124          725            21  funded  2014-08-25T03:24:54Z   \n",
              "5     743125          725            27  funded  2014-08-18T23:08:00Z   \n",
              "6     743130          725            27  funded  2014-08-19T12:14:49Z   \n",
              "\n",
              "   funded_amount  repayment_term location_country_code  sector description  \\\n",
              "0           4825               8                    BJ  Retail         NaN   \n",
              "3            825              14                    BJ  Retail         NaN   \n",
              "4            725              13                    BJ  Retail         NaN   \n",
              "5            725              13                    BJ  Retail         NaN   \n",
              "6            725              13                    BJ  Retail         NaN   \n",
              "\n",
              "   use  \n",
              "0  NaN  \n",
              "3  NaN  \n",
              "4  NaN  \n",
              "5  NaN  \n",
              "6  NaN  "
            ]
          },
          "metadata": {
            "tags": []
          },
          "execution_count": 16
        }
      ]
    },
    {
      "cell_type": "code",
      "metadata": {
        "id": "j678UiV-oUia",
        "colab_type": "code",
        "outputId": "58ddc334-0fb6-4a71-b4f1-7dc302a49db7",
        "colab": {}
      },
      "source": [
        "sector = 'Retail'\n",
        "df_retail = df[df.sector==sector]\n",
        "p = sns.boxplot(x='sector', \n",
        "                y='loan_amount',\n",
        "                data=df_retail);\n",
        "p.set(title = f'Loan amounts for {sector}');\n",
        "p.set_xticklabels(p.get_xticklabels(), rotation=-45);"
      ],
      "execution_count": 0,
      "outputs": [
        {
          "output_type": "display_data",
          "data": {
            "image/png": "[encoded data removed]",
            "text/plain": [
              "<Figure size 432x288 with 1 Axes>"
            ]
          },
          "metadata": {
            "tags": []
          }
        }
      ]
    },
    {
      "cell_type": "markdown",
      "metadata": {
        "id": "bPWtcIiCoUib",
        "colab_type": "text"
      },
      "source": [
        "Try this - Select other sectors and see how they look"
      ]
    },
    {
      "cell_type": "markdown",
      "metadata": {
        "id": "WlebKBAOoUic",
        "colab_type": "text"
      },
      "source": [
        "Aha! It looks like we are onto something here... we can see different trends for different partners! We'll look into this further in feature_engineering to see how we can use to create powerful features. "
      ]
    },
    {
      "cell_type": "markdown",
      "metadata": {
        "id": "2Kz5My-coUic",
        "colab_type": "text"
      },
      "source": [
        "### 7. Time dependancy\n",
        "Quite often it's useful to see how a variable changes over time. This means creating a plot with time on the x-axis and the variable on the y-axis.\n",
        "\n",
        "Lets have a look at how the average loan amount changes over time on a monthly basis."
      ]
    },
    {
      "cell_type": "code",
      "metadata": {
        "id": "KGnpodv0oUid",
        "colab_type": "code",
        "outputId": "8c29ff90-f504-4a15-9694-38d702e1aff7",
        "colab": {}
      },
      "source": [
        "# Convert posted date to a datetime object\n",
        "time_column = 'funded_date'\n",
        "df[time_column] = pd.to_datetime(df[time_column])\n",
        "\n",
        "# Resample the date to monthly intervals , taking the mean of loan_amount\n",
        "# This creates an array where the index is the timestamp and the value is the mean of loan amount\n",
        "time_data = df.resample('M', on=time_column)['loan_amount'].mean().fillna(0)\n",
        "fig, ax = plt.subplots(figsize=(15,8))\n",
        "ax.plot(time_data)\n",
        "plt.title('Mean loan_amount over time');"
      ],
      "execution_count": 0,
      "outputs": [
        {
          "output_type": "display_data",
          "data": {
            "image/png": "[encoded data removed]",
            "text/plain": [
              "<Figure size 1080x576 with 1 Axes>"
            ]
          },
          "metadata": {
            "tags": []
          }
        }
      ]
    },
    {
      "cell_type": "markdown",
      "metadata": {
        "id": "kwKiWQfUoUie",
        "colab_type": "text"
      },
      "source": [
        "We can look at different timefrance by changing the parameter in resample. Lets look on a weekly basis!"
      ]
    },
    {
      "cell_type": "code",
      "metadata": {
        "id": "HP35VZxCoUif",
        "colab_type": "code",
        "outputId": "e3009eb4-8a73-4fdb-ff4b-44552dd8cc3b",
        "colab": {}
      },
      "source": [
        "# Resample the date to monthly intervals , taking the mean of loan_amount\n",
        "# This creates an array where the index is the timestamp and the value is the mean of loan amount\n",
        "time_data = df.resample('7D', on=time_column)['loan_amount'].mean().fillna(0)\n",
        "fig, ax = plt.subplots(figsize=(15,8))\n",
        "ax.plot(time_data)\n",
        "plt.title('Mean loan_amount over time');"
      ],
      "execution_count": 0,
      "outputs": [
        {
          "output_type": "display_data",
          "data": {
            "image/png": "[encoded data removed]",
            "text/plain": [
              "<Figure size 1080x576 with 1 Axes>"
            ]
          },
          "metadata": {
            "tags": []
          }
        }
      ]
    },
    {
      "cell_type": "markdown",
      "metadata": {
        "id": "U5Nbu91goUih",
        "colab_type": "text"
      },
      "source": [
        "What is next\n",
        "------\n",
        "\n",
        "Next we move on to feature engineering, where we create variables from what we've found!"
      ]
    },
    {
      "cell_type": "markdown",
      "metadata": {
        "id": "3H8W7tVKoUih",
        "colab_type": "text"
      },
      "source": [
        "<br>\n",
        "<br> \n",
        "<br>\n",
        "\n",
        "----"
      ]
    }
  ]
}